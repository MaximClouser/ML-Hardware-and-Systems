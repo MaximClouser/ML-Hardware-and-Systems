{
  "cells": [
    {
      "cell_type": "markdown",
      "metadata": {
        "id": "view-in-github",
        "colab_type": "text"
      },
      "source": [
        "<a href=\"https://colab.research.google.com/github/ML-HW-SYS/a2-MaximClouser/blob/main/3_training_and_analysis.ipynb\" target=\"_parent\"><img src=\"https://colab.research.google.com/assets/colab-badge.svg\" alt=\"Open In Colab\"/></a>"
      ]
    },
    {
      "cell_type": "markdown",
      "metadata": {
        "id": "z2nGDz0JliKU"
      },
      "source": [
        "# **3. Training and Testing**\n",
        "Please start early! Section 3.6 Training may take one to two hours to run."
      ]
    },
    {
      "cell_type": "markdown",
      "metadata": {
        "id": "c5U9gkiTnC4s"
      },
      "source": [
        "## 3.0 Setup GDrive and Git"
      ]
    },
    {
      "cell_type": "code",
      "execution_count": 1,
      "metadata": {
        "id": "WwcJax1zU04M",
        "outputId": "f9ebd92e-9e58-417d-8a7a-77b3d14c509b",
        "colab": {
          "base_uri": "https://localhost:8080/"
        }
      },
      "outputs": [
        {
          "output_type": "stream",
          "name": "stdout",
          "text": [
            "Mounted at /content/gdrive\n"
          ]
        }
      ],
      "source": [
        "# Mount google drive\n",
        "from google.colab import drive\n",
        "drive.mount('/content/gdrive')"
      ]
    },
    {
      "cell_type": "code",
      "execution_count": 2,
      "metadata": {
        "id": "NQklidVMU0-t"
      },
      "outputs": [],
      "source": [
        "# Make sure your token is stored in a txt file at the location below.\n",
        "# This way there is no risk that you will push it to your repo\n",
        "# Never share your token with anyone, it is basically your github password!\n",
        "with open('/content/gdrive/MyDrive/ece5545/token.txt') as f:\n",
        "    token = f.readline().strip()\n",
        "# Use another file to store your github username\n",
        "with open('/content/gdrive/MyDrive/ece5545/git_username.txt') as f:\n",
        "    handle = f.readline().strip()"
      ]
    },
    {
      "cell_type": "code",
      "execution_count": 3,
      "metadata": {
        "id": "7bdUCGFEU1Es",
        "outputId": "4c463e9f-1250-484c-d229-540424b5fdf1",
        "colab": {
          "base_uri": "https://localhost:8080/"
        }
      },
      "outputs": [
        {
          "output_type": "stream",
          "name": "stdout",
          "text": [
            "/content/gdrive/MyDrive/ece5545\n",
            "fatal: destination path 'a2-MaximClouser' already exists and is not an empty directory.\n",
            "/content/gdrive/MyDrive/ece5545/a2-MaximClouser\n",
            "Already on 'main'\n",
            "Your branch is up to date with 'origin/main'.\n",
            "remote: Enumerating objects: 5, done.\u001b[K\n",
            "remote: Counting objects: 100% (5/5), done.\u001b[K\n",
            "remote: Compressing objects: 100% (3/3), done.\u001b[K\n",
            "remote: Total 3 (delta 1), reused 0 (delta 0), pack-reused 0\u001b[K\n",
            "Unpacking objects: 100% (3/3), 6.45 KiB | 183.00 KiB/s, done.\n",
            "From https://github.com/ML-HW-SYS/a2-MaximClouser\n",
            "   c58d17b..2a1a2d2  main       -> origin/main\n",
            "Updating c58d17b..2a1a2d2\n",
            "Fast-forward\n",
            " 3_training_and_analysis.ipynb | 629 \u001b[32m++++++++++++++++++++++++++++++++++++++++++++++++++++++++\u001b[m\u001b[31m------\u001b[m\n",
            " 1 file changed, 570 insertions(+), 59 deletions(-)\n",
            "/content/gdrive/MyDrive/ece5545\n"
          ]
        }
      ],
      "source": [
        "# Clone your github repo\n",
        "YOUR_TOKEN = token\n",
        "YOUR_HANDLE = handle\n",
        "BRANCH = \"main\"\n",
        "\n",
        "# %mkdir /content/gdrive/MyDrive/ece5545\n",
        "%cd /content/gdrive/MyDrive/ece5545\n",
        "!git clone https://{YOUR_TOKEN}@github.com/ML-HW-SYS/a2-{YOUR_HANDLE}.git\n",
        "%cd /content/gdrive/MyDrive/ece5545/a2-{YOUR_HANDLE}\n",
        "!git checkout {BRANCH}\n",
        "!git pull\n",
        "%cd /content/gdrive/MyDrive/ece5545\n",
        "\n",
        "PROJECT_ROOT = f\"/content/gdrive/MyDrive/ece5545/a2-{YOUR_HANDLE}\""
      ]
    },
    {
      "cell_type": "code",
      "execution_count": 4,
      "metadata": {
        "id": "xHXYdHkzU1MX"
      },
      "outputs": [],
      "source": [
        "# This extension reloads all imports before running each cell\n",
        "%load_ext autoreload\n",
        "%autoreload 2"
      ]
    },
    {
      "cell_type": "markdown",
      "metadata": {
        "id": "t6zMfxIflRLB"
      },
      "source": [
        "### GPU\n",
        "\n",
        "Ensure you are running the GPU runtime type:\n",
        "1.   Click \"Runtime\" on top banner\n",
        "2.   Select \"Change runtime type\"\n",
        "3.   Under \"Hardware accelarator\" select \"GPU\" and save\n",
        "\n"
      ]
    },
    {
      "cell_type": "markdown",
      "metadata": {
        "id": "be4rOan-nHrF"
      },
      "source": [
        "### Import code dependencies"
      ]
    },
    {
      "cell_type": "code",
      "execution_count": 5,
      "metadata": {
        "id": "aDDr3IrkliKY",
        "outputId": "ed95b6f2-ddf6-4001-f07d-40b3a952ca1e",
        "colab": {
          "base_uri": "https://localhost:8080/"
        }
      },
      "outputs": [
        {
          "output_type": "stream",
          "name": "stdout",
          "text": [
            "Model folders are created, \n",
            "PyTorch models will be saved in /content/gdrive/MyDrive/ece5545/models/torch_models, \n",
            "ONNX models will be saved in /content/gdrive/MyDrive/ece5545/models/onnx_models, \n",
            "TensorFlow Saved Models will be saved in /content/gdrive/MyDrive/ece5545/models/tf_models, \n",
            "TensorFlow Lite models will be saved in /content/gdrive/MyDrive/ece5545/models/tflite_models, \n",
            "TensorFlow Lite Micro models will be saved in /content/gdrive/MyDrive/ece5545/models/micro_models.\n"
          ]
        }
      ],
      "source": [
        "import os\n",
        "import sys\n",
        "\n",
        "# Adding assignment 2 to the system path\n",
        "# -- make sure this matches your git directory\n",
        "sys.path.insert(0, PROJECT_ROOT)\n",
        "\n",
        "# Import libraries\n",
        "import torch\n",
        "import torch.nn as nn\n",
        "import torch.nn.functional as F\n",
        "import torch.optim as optim\n",
        "\n",
        "import matplotlib.pyplot as plt\n",
        "from tqdm.notebook import tqdm\n",
        "import numpy as np\n",
        "import copy\n",
        "\n",
        "# Import constants to use constants defined for training\n",
        "from src.constants import *\n",
        "# Import data_proc to use data processing functions\n",
        "import src.data_proc as data_proc\n",
        "\n",
        "random_seed = 0\n",
        "torch.manual_seed(random_seed)\n",
        "torch.cuda.manual_seed(random_seed)"
      ]
    },
    {
      "cell_type": "markdown",
      "metadata": {
        "id": "U7qaF1IEliKa"
      },
      "source": [
        "## 3.1 Download and Preprocess Data"
      ]
    },
    {
      "cell_type": "markdown",
      "metadata": {
        "id": "FLwsdGt_liKa"
      },
      "source": [
        "### Create audio processor\n",
        "This step is similar to what was done in part 2, so the files should already be downloaded in your Google Drive."
      ]
    },
    {
      "cell_type": "code",
      "execution_count": 6,
      "metadata": {
        "id": "Xdc42fZiliKa"
      },
      "outputs": [],
      "source": [
        "# Create audio_processor\n",
        "audio_processor = data_proc.AudioProcessor()"
      ]
    },
    {
      "cell_type": "markdown",
      "metadata": {
        "id": "e53768H0liKf"
      },
      "source": [
        "### Select device: cuda or cpu"
      ]
    },
    {
      "cell_type": "code",
      "execution_count": 7,
      "metadata": {
        "id": "UrpzLHRhliKf",
        "outputId": "1e286768-fc41-4db9-a8b9-82f49a19ceb4",
        "colab": {
          "base_uri": "https://localhost:8080/"
        }
      },
      "outputs": [
        {
          "output_type": "stream",
          "name": "stdout",
          "text": [
            "Using cuda to run the training scrpit.\n"
          ]
        }
      ],
      "source": [
        "# Define device\n",
        "device = torch.device(\"cuda\" if torch.cuda.is_available() else \"cpu\")\n",
        "print(f'Using {device} to run the training scrpit.')"
      ]
    },
    {
      "cell_type": "markdown",
      "metadata": {
        "id": "ViruC2uOnY3u"
      },
      "source": [
        "## 3.2 Data Loader"
      ]
    },
    {
      "cell_type": "code",
      "execution_count": 8,
      "metadata": {
        "id": "3qYQMncTliKb",
        "outputId": "1f310602-80ee-4533-f907-43376a4a94b8",
        "colab": {
          "base_uri": "https://localhost:8080/"
        }
      },
      "outputs": [
        {
          "output_type": "stream",
          "name": "stdout",
          "text": [
            "Train size: 10556 Val size: 1333 Test size: 1368\n"
          ]
        }
      ],
      "source": [
        "# Define train, test, and validation set\n",
        "train_set = audio_processor.data_index['training']\n",
        "test_set = audio_processor.data_index['testing']\n",
        "valid_set = audio_processor.data_index['validation']\n",
        "\n",
        "# Define data loaders\n",
        "from src.loaders import make_data_loaders\n",
        "data_loaders = make_data_loaders(audio_processor, device)\n",
        "train_loader = data_loaders['training']\n",
        "test_loader = data_loaders['testing']\n",
        "valid_loader = data_loaders['validation']"
      ]
    },
    {
      "cell_type": "markdown",
      "metadata": {
        "id": "cBSyrbs6liKg"
      },
      "source": [
        "## 3.3 Define the Model"
      ]
    },
    {
      "cell_type": "code",
      "execution_count": 9,
      "metadata": {
        "id": "OERV-lIDliKi",
        "outputId": "0c5fb220-49d6-4756-83ee-3decd5f57896",
        "colab": {
          "base_uri": "https://localhost:8080/"
        }
      },
      "outputs": [
        {
          "output_type": "execute_result",
          "data": {
            "text/plain": [
              "TinyConv(\n",
              "  (conv_reshape): Reshape(output_shape=(-1, 1, 49, 40))\n",
              "  (conv): Conv2d(1, 8, kernel_size=(10, 8), stride=(2, 2), padding=(5, 3))\n",
              "  (relu): ReLU()\n",
              "  (dropout): Dropout(p=0.5, inplace=False)\n",
              "  (fc_reshape): Reshape(output_shape=(-1, 4000))\n",
              "  (fc): Linear(in_features=4000, out_features=4, bias=True)\n",
              "  (softmax): Softmax(dim=1)\n",
              ")"
            ]
          },
          "metadata": {},
          "execution_count": 9
        }
      ],
      "source": [
        "from src.networks import TinyConv\n",
        "# Create a full precision (float32) TinyConv model\n",
        "model_fp32 = TinyConv(\n",
        "    model_settings=audio_processor.model_settings,\n",
        "    n_input=1,\n",
        "    n_output=audio_processor.num_labels\n",
        ")\n",
        "model_fp32"
      ]
    },
    {
      "cell_type": "markdown",
      "metadata": {
        "id": "0PeiCwmdliKk"
      },
      "source": [
        "## 3.4 Training"
      ]
    },
    {
      "cell_type": "code",
      "execution_count": 10,
      "metadata": {
        "id": "pTDNIHCqliKj"
      },
      "outputs": [],
      "source": [
        "from src.train_val_test_utils import train, test"
      ]
    },
    {
      "cell_type": "markdown",
      "metadata": {
        "id": "Fnk6TOA8rv7C"
      },
      "source": [
        "### Adjust parameters\n",
        "*   You can change *n_epoch* to use a different number training steps/epochs"
      ]
    },
    {
      "cell_type": "code",
      "execution_count": 11,
      "metadata": {
        "id": "4twj3n1tliKk",
        "outputId": "7d151b48-12df-4950-ba12-9b79390ad977",
        "colab": {
          "base_uri": "https://localhost:8080/"
        }
      },
      "outputs": [
        {
          "output_type": "stream",
          "name": "stdout",
          "text": [
            "# batches: 106 \n",
            "# epochs: 50 \n",
            "# total training steps: 5300\n"
          ]
        }
      ],
      "source": [
        "num_batches = len(train_loader)\n",
        "n_epoch = 50\n",
        "print(f'# batches: {num_batches} \\n# epochs: {n_epoch} \\n# total training steps: {num_batches * n_epoch}')"
      ]
    },
    {
      "cell_type": "markdown",
      "metadata": {
        "id": "Ps_AJaYKliKk"
      },
      "source": [
        "### Create optimizer for training\n",
        " Explore more at:\n",
        "[TORCH. OPTIM](https://pytorch.org/docs/stable/optim.html?highlight=torch%20optim%20lr_scheduler)"
      ]
    },
    {
      "cell_type": "code",
      "execution_count": 12,
      "metadata": {
        "id": "VqVXUQzYliKk",
        "outputId": "9f83ff80-562e-4368-81fb-12fa613d1b91",
        "colab": {
          "base_uri": "https://localhost:8080/"
        }
      },
      "outputs": [
        {
          "output_type": "stream",
          "name": "stdout",
          "text": [
            "{'state': {}, 'param_groups': [{'lr': 0.001, 'betas': (0.9, 0.999), 'eps': 1e-08, 'weight_decay': 0.0001, 'amsgrad': False, 'maximize': False, 'foreach': None, 'capturable': False, 'differentiable': False, 'fused': None, 'params': [0, 1, 2, 3]}]}\n"
          ]
        }
      ],
      "source": [
        "from src.train_val_test_utils import create_optimizer\n",
        "\n",
        "# Create optimizer\n",
        "optimizer_fp32 = create_optimizer(model=model_fp32, learning_rate=0.001)\n",
        "print(optimizer_fp32.state_dict())"
      ]
    },
    {
      "cell_type": "markdown",
      "metadata": {
        "id": "EX-iWv6Ash3R"
      },
      "source": [
        "### Train the model\n",
        "TensorBoard will allow you to visualize your results. The second code block, the training, will take a while to run."
      ]
    },
    {
      "cell_type": "code",
      "execution_count": 15,
      "metadata": {
        "id": "DGag-bchliKl",
        "outputId": "75b713ea-3d78-4249-99bf-de7a33522c06",
        "colab": {
          "base_uri": "https://localhost:8080/",
          "height": 1000,
          "referenced_widgets": [
            "4ab3e3b8eb434f26b0d9cb6764b61f4d",
            "0e807c1e455d43f7b4c65f428197f42c",
            "1d08957b0db8452dae170eba198ca432",
            "3eb74adacfcf4689a68b4dc192f5f914",
            "49da644f48f247d3a64b7c700f9d802b",
            "5e7ae8536d8e4899bfcf503d45ccc6e9",
            "e99f2b2a56ee4322a2c960972818d445",
            "38e4909bd61e4195a5ec8c91e01d2050",
            "334d5fca592048699b79ee06ea53238f",
            "02b0d21f5ccd4e78afd3aa169098adb8",
            "4a2b6223c9ff460a91922808ba5c4993"
          ]
        }
      },
      "outputs": [
        {
          "data": {
            "application/vnd.jupyter.widget-view+json": {
              "model_id": "4ab3e3b8eb434f26b0d9cb6764b61f4d",
              "version_major": 2,
              "version_minor": 0
            },
            "text/plain": [
              "  0%|          | 0/50 [00:00<?, ?it/s]"
            ]
          },
          "metadata": {},
          "output_type": "display_data"
        },
        {
          "output_type": "stream",
          "name": "stdout",
          "text": [
            "Val Acc Epoch 1 = 84.92%, Train loss = 0.808\n",
            "\n",
            "Valid epoch: 1\tAccuracy: 1120/1333 (84.02%)\n",
            "\n",
            "Val Acc Epoch 2 = 87.55%, Train loss = 0.491\n",
            "\n",
            "Valid epoch: 2\tAccuracy: 1182/1333 (88.67%)\n",
            "\n",
            "Val Acc Epoch 3 = 89.57%, Train loss = 0.415\n",
            "\n",
            "Valid epoch: 3\tAccuracy: 1173/1333 (88.00%)\n",
            "\n",
            "Val Acc Epoch 4 = 91.15%, Train loss = 0.388\n",
            "\n",
            "Valid epoch: 4\tAccuracy: 1207/1333 (90.55%)\n",
            "\n",
            "Val Acc Epoch 5 = 90.32%, Train loss = 0.366\n",
            "\n",
            "Valid epoch: 5\tAccuracy: 1212/1333 (90.92%)\n",
            "\n",
            "Val Acc Epoch 6 = 89.8%, Train loss = 0.369\n",
            "\n",
            "Valid epoch: 6\tAccuracy: 1206/1333 (90.47%)\n",
            "\n",
            "Val Acc Epoch 7 = 90.62%, Train loss = 0.34\n",
            "\n",
            "Valid epoch: 7\tAccuracy: 1204/1333 (90.32%)\n",
            "\n",
            "Val Acc Epoch 8 = 90.1%, Train loss = 0.347\n",
            "\n",
            "Valid epoch: 8\tAccuracy: 1213/1333 (91.00%)\n",
            "\n",
            "Val Acc Epoch 9 = 90.62%, Train loss = 0.336\n",
            "\n",
            "Valid epoch: 9\tAccuracy: 1209/1333 (90.70%)\n",
            "\n",
            "Val Acc Epoch 10 = 91.52%, Train loss = 0.318\n",
            "\n",
            "Valid epoch: 10\tAccuracy: 1211/1333 (90.85%)\n",
            "\n",
            "Val Acc Epoch 11 = 92.35%, Train loss = 0.325\n",
            "\n",
            "Valid epoch: 11\tAccuracy: 1208/1333 (90.62%)\n",
            "\n",
            "Val Acc Epoch 12 = 91.15%, Train loss = 0.324\n",
            "\n",
            "Valid epoch: 12\tAccuracy: 1211/1333 (90.85%)\n",
            "\n",
            "Val Acc Epoch 13 = 90.85%, Train loss = 0.323\n",
            "\n",
            "Valid epoch: 13\tAccuracy: 1203/1333 (90.25%)\n",
            "\n",
            "Val Acc Epoch 14 = 91.3%, Train loss = 0.312\n",
            "\n",
            "Valid epoch: 14\tAccuracy: 1211/1333 (90.85%)\n",
            "\n",
            "Val Acc Epoch 15 = 91.37%, Train loss = 0.317\n",
            "\n",
            "Valid epoch: 15\tAccuracy: 1220/1333 (91.52%)\n",
            "\n",
            "Val Acc Epoch 16 = 91.45%, Train loss = 0.31\n",
            "\n",
            "Valid epoch: 16\tAccuracy: 1226/1333 (91.97%)\n",
            "\n",
            "Val Acc Epoch 17 = 90.77%, Train loss = 0.297\n",
            "\n",
            "Valid epoch: 17\tAccuracy: 1216/1333 (91.22%)\n",
            "\n",
            "Val Acc Epoch 18 = 91.45%, Train loss = 0.307\n",
            "\n",
            "Valid epoch: 18\tAccuracy: 1218/1333 (91.37%)\n",
            "\n",
            "Val Acc Epoch 19 = 91.22%, Train loss = 0.304\n",
            "\n",
            "Valid epoch: 19\tAccuracy: 1216/1333 (91.22%)\n",
            "\n",
            "Val Acc Epoch 20 = 91.6%, Train loss = 0.291\n",
            "\n",
            "Valid epoch: 20\tAccuracy: 1211/1333 (90.85%)\n",
            "\n",
            "Val Acc Epoch 21 = 91.3%, Train loss = 0.294\n",
            "\n",
            "Valid epoch: 21\tAccuracy: 1204/1333 (90.32%)\n",
            "\n",
            "Val Acc Epoch 22 = 91.6%, Train loss = 0.295\n",
            "\n",
            "Valid epoch: 22\tAccuracy: 1214/1333 (91.07%)\n",
            "\n",
            "Val Acc Epoch 23 = 91.67%, Train loss = 0.302\n",
            "\n",
            "Valid epoch: 23\tAccuracy: 1223/1333 (91.75%)\n",
            "\n",
            "Val Acc Epoch 24 = 91.3%, Train loss = 0.295\n",
            "\n",
            "Valid epoch: 24\tAccuracy: 1221/1333 (91.60%)\n",
            "\n",
            "Val Acc Epoch 25 = 91.52%, Train loss = 0.29\n",
            "\n",
            "Valid epoch: 25\tAccuracy: 1213/1333 (91.00%)\n",
            "\n",
            "Val Acc Epoch 26 = 91.67%, Train loss = 0.285\n",
            "\n",
            "Valid epoch: 26\tAccuracy: 1218/1333 (91.37%)\n",
            "\n",
            "Val Acc Epoch 27 = 91.9%, Train loss = 0.285\n",
            "\n",
            "Valid epoch: 27\tAccuracy: 1231/1333 (92.35%)\n",
            "\n",
            "Val Acc Epoch 28 = 91.82%, Train loss = 0.28\n",
            "\n",
            "Valid epoch: 28\tAccuracy: 1225/1333 (91.90%)\n",
            "\n",
            "Val Acc Epoch 29 = 91.97%, Train loss = 0.286\n",
            "\n",
            "Valid epoch: 29\tAccuracy: 1222/1333 (91.67%)\n",
            "\n",
            "Val Acc Epoch 30 = 91.75%, Train loss = 0.273\n",
            "\n",
            "Valid epoch: 30\tAccuracy: 1213/1333 (91.00%)\n",
            "\n",
            "Val Acc Epoch 31 = 90.62%, Train loss = 0.275\n",
            "\n",
            "Valid epoch: 31\tAccuracy: 1202/1333 (90.17%)\n",
            "\n",
            "Val Acc Epoch 32 = 90.47%, Train loss = 0.294\n",
            "\n",
            "Valid epoch: 32\tAccuracy: 1213/1333 (91.00%)\n",
            "\n",
            "Val Acc Epoch 33 = 91.75%, Train loss = 0.298\n",
            "\n",
            "Valid epoch: 33\tAccuracy: 1235/1333 (92.65%)\n",
            "\n",
            "Val Acc Epoch 34 = 92.05%, Train loss = 0.288\n",
            "\n",
            "Valid epoch: 34\tAccuracy: 1224/1333 (91.82%)\n",
            "\n",
            "Val Acc Epoch 35 = 92.42%, Train loss = 0.277\n",
            "\n",
            "Valid epoch: 35\tAccuracy: 1232/1333 (92.42%)\n",
            "\n",
            "Val Acc Epoch 36 = 91.37%, Train loss = 0.276\n",
            "\n",
            "Valid epoch: 36\tAccuracy: 1229/1333 (92.20%)\n",
            "\n",
            "Val Acc Epoch 37 = 92.2%, Train loss = 0.271\n",
            "\n",
            "Valid epoch: 37\tAccuracy: 1234/1333 (92.57%)\n",
            "\n",
            "Val Acc Epoch 38 = 91.75%, Train loss = 0.273\n",
            "\n",
            "Valid epoch: 38\tAccuracy: 1219/1333 (91.45%)\n",
            "\n",
            "Val Acc Epoch 39 = 91.97%, Train loss = 0.279\n",
            "\n",
            "Valid epoch: 39\tAccuracy: 1219/1333 (91.45%)\n",
            "\n",
            "Val Acc Epoch 40 = 91.67%, Train loss = 0.282\n",
            "\n",
            "Valid epoch: 40\tAccuracy: 1227/1333 (92.05%)\n",
            "\n",
            "Val Acc Epoch 41 = 92.65%, Train loss = 0.268\n",
            "\n",
            "Valid epoch: 41\tAccuracy: 1231/1333 (92.35%)\n",
            "\n",
            "Val Acc Epoch 42 = 91.45%, Train loss = 0.279\n",
            "\n",
            "Valid epoch: 42\tAccuracy: 1225/1333 (91.90%)\n",
            "\n",
            "Val Acc Epoch 43 = 93.32%, Train loss = 0.283\n",
            "\n",
            "Valid epoch: 43\tAccuracy: 1227/1333 (92.05%)\n",
            "\n",
            "Val Acc Epoch 44 = 93.02%, Train loss = 0.27\n",
            "\n",
            "Valid epoch: 44\tAccuracy: 1232/1333 (92.42%)\n",
            "\n",
            "Val Acc Epoch 45 = 92.35%, Train loss = 0.269\n",
            "\n",
            "Valid epoch: 45\tAccuracy: 1228/1333 (92.12%)\n",
            "\n",
            "Val Acc Epoch 46 = 92.2%, Train loss = 0.27\n",
            "\n",
            "Valid epoch: 46\tAccuracy: 1227/1333 (92.05%)\n",
            "\n",
            "Val Acc Epoch 47 = 92.35%, Train loss = 0.269\n",
            "\n",
            "Valid epoch: 47\tAccuracy: 1230/1333 (92.27%)\n",
            "\n",
            "Val Acc Epoch 48 = 92.35%, Train loss = 0.265\n",
            "\n",
            "Valid epoch: 48\tAccuracy: 1232/1333 (92.42%)\n",
            "\n",
            "Val Acc Epoch 49 = 92.72%, Train loss = 0.27\n",
            "\n",
            "Valid epoch: 49\tAccuracy: 1234/1333 (92.57%)\n",
            "\n",
            "Val Acc Epoch 50 = 92.95%, Train loss = 0.266\n",
            "\n",
            "Valid epoch: 50\tAccuracy: 1234/1333 (92.57%)\n",
            "\n",
            "Test Acc = 93.06%\n"
          ]
        }
      ],
      "source": [
        "pbar_update = 1 / (len(train_loader) + len(test_loader) + len(valid_loader))\n",
        "\n",
        "def run_training(model, data_loaders, n_epoch, optimizer,\n",
        "                 save_interval=1, resume=True, checkpoint_path=None):\n",
        "    test_loader = data_loaders['testing']\n",
        "    with tqdm(total=n_epoch) as pbar:\n",
        "\n",
        "        completed_epoch = 1\n",
        "        if resume:\n",
        "            try:\n",
        "                #continue training with previous model if one exists\n",
        "                checkpoint = torch.load(checkpoint_path)\n",
        "                model.load_state_dict(checkpoint['model_state_dict'])\n",
        "                optimizer.load_state_dict(checkpoint['optimizer_state_dict'])\n",
        "                completed_epoch = checkpoint[\"epoch\"] + 1\n",
        "                model.eval()\n",
        "                pbar.update(completed_epoch)\n",
        "            except:\n",
        "                pass\n",
        "\n",
        "        last_valacc = 0\n",
        "        for epoch in range(completed_epoch, n_epoch + 1):\n",
        "            train_iters = len(data_loaders['training'])\n",
        "\n",
        "            train(model, data_loaders, optimizer,\n",
        "                      epoch, device)\n",
        "\n",
        "            valacc = test(valid_loader, model, device, epoch=epoch,\n",
        "                          loader_type='Valid', verbose=True)\n",
        "            #checkpoint the model every epoch\n",
        "            if epoch % save_interval == 0 and valacc > last_valacc:\n",
        "                last_valacc = valacc\n",
        "                torch.save({\n",
        "                    'epoch': epoch,\n",
        "                    'model_state_dict': model.state_dict(),\n",
        "                    'optimizer_state_dict': optimizer.state_dict()\n",
        "                }, checkpoint_path)\n",
        "\n",
        "            # Update epoch pbar\n",
        "            pbar.update(1)\n",
        "\n",
        "        testacc = test(test_loader, model, device,\n",
        "                     epoch=None, loader_type='Test')\n",
        "        print(f'Test Acc = {round(testacc,2)}%')\n",
        "\n",
        "\n",
        "# This is where your checkpoint file will be saved\n",
        "checkpoint_path = os.path.join(TORCH_DIR, \"fp32_checkpoint.pt\")\n",
        "\n",
        "model_fp32.to(device)\n",
        "run_training(\n",
        "    model=model_fp32, data_loaders=data_loaders,\n",
        "    n_epoch=n_epoch, optimizer=optimizer_fp32,\n",
        "    resume=True, checkpoint_path=checkpoint_path\n",
        ")"
      ]
    },
    {
      "cell_type": "markdown",
      "metadata": {
        "id": "Qg1WlG-rliKl"
      },
      "source": [
        "## 3.5 Testing"
      ]
    },
    {
      "cell_type": "markdown",
      "metadata": {
        "id": "oYgFvfYAliKm"
      },
      "source": [
        "### Calculating accuracy\n"
      ]
    },
    {
      "cell_type": "code",
      "execution_count": 16,
      "metadata": {
        "id": "9PtKvJH_liKm",
        "outputId": "2b831414-da57-40b9-e140-85fec7707e17",
        "colab": {
          "base_uri": "https://localhost:8080/",
          "height": 1000
        }
      },
      "outputs": [
        {
          "output_type": "stream",
          "name": "stdout",
          "text": [
            "Train size: 10556 Val size: 1333 Test size: 1368\n"
          ]
        },
        {
          "output_type": "display_data",
          "data": {
            "text/plain": [
              "<Figure size 640x480 with 1 Axes>"
            ],
            "image/png": "[encoded data removed]"
          },
          "metadata": {}
        },
        {
          "output_type": "display_data",
          "data": {
            "text/plain": [
              "<Figure size 640x480 with 1 Axes>"
            ],
            "image/png": "[encoded data removed]"
          },
          "metadata": {}
        },
        {
          "output_type": "display_data",
          "data": {
            "text/plain": [
              "<Figure size 640x480 with 1 Axes>"
            ],
            "image/png": "[encoded data removed]"
          },
          "metadata": {}
        }
      ],
      "source": [
        "from src.train_val_test_utils import plot_acc\n",
        "\n",
        "test_time_data_loaders = make_data_loaders(\n",
        "    audio_processor, device,\n",
        "    test_batch_size=1, valid_batch_size=1,\n",
        "    num_workers=0\n",
        ")\n",
        "\n",
        "plot_acc(\n",
        "    test_time_data_loaders['validation'], model_fp32, audio_processor, device,\n",
        "    \"validation\", 'float32 TinyConv', \"float\")\n",
        "plot_acc(\n",
        "    test_time_data_loaders['training'], model_fp32, audio_processor, device,\n",
        "    \"training\", 'float32 TinyConv', \"float\")\n",
        "acc = plot_acc(\n",
        "    test_time_data_loaders['testing'], model_fp32, audio_processor, device,\n",
        "    'testing', 'float32 TinyConv', \"float\")"
      ]
    },
    {
      "cell_type": "markdown",
      "metadata": {
        "id": "_tMzxb-jliKm"
      },
      "source": [
        "## 3.6 Save the Trained Model"
      ]
    },
    {
      "cell_type": "code",
      "execution_count": 17,
      "metadata": {
        "id": "zqC6fEoUliKm"
      },
      "outputs": [],
      "source": [
        "def choose_name(model_name):\n",
        "    name = f\"{model_name}_\" + \"{index}\"\n",
        "    i = 0\n",
        "    while os.path.isfile(name.format(index=i)):\n",
        "        i += 1\n",
        "    name = name.format(index = i)\n",
        "    print(f\"The model's will be stored as: \\n {name}\")\n",
        "    return name\n",
        "\n",
        "def save_model(model, path):\n",
        "    torch.save(model.state_dict(), path)"
      ]
    },
    {
      "cell_type": "code",
      "execution_count": 18,
      "metadata": {
        "id": "VVKrP45aliKm",
        "outputId": "5f837da7-5f2f-41b0-f424-8d3da66d3523",
        "colab": {
          "base_uri": "https://localhost:8080/",
          "height": 70
        }
      },
      "outputs": [
        {
          "output_type": "stream",
          "name": "stdout",
          "text": [
            "The model's will be stored as: \n",
            " tinyconv_float32_init_seed0_94.01%_0\n"
          ]
        },
        {
          "output_type": "execute_result",
          "data": {
            "text/plain": [
              "'/content/gdrive/MyDrive/ece5545/models/torch_models/tinyconv_float32_init_seed0_94.01%_0.pt'"
            ],
            "application/vnd.google.colaboratory.intrinsic+json": {
              "type": "string"
            }
          },
          "metadata": {},
          "execution_count": 18
        }
      ],
      "source": [
        "# Choose a path\n",
        "# You can also define your own path\n",
        "model_name = f\"tinyconv_float32_init_seed{torch.initial_seed()}_{acc * 100:.2f}%\"\n",
        "file_name = choose_name(model_name)\n",
        "torch_path = os.path.join(TORCH_DIR, f'{file_name}.pt')\n",
        "torch_path"
      ]
    },
    {
      "cell_type": "code",
      "execution_count": 19,
      "metadata": {
        "id": "JHgqZ8yXliKn",
        "outputId": "091bd7be-5ebd-4283-e87c-b23baa3bbd5e",
        "colab": {
          "base_uri": "https://localhost:8080/",
          "height": 35
        }
      },
      "outputs": [
        {
          "output_type": "execute_result",
          "data": {
            "text/plain": [
              "'Saved!'"
            ],
            "application/vnd.google.colaboratory.intrinsic+json": {
              "type": "string"
            }
          },
          "metadata": {},
          "execution_count": 19
        }
      ],
      "source": [
        "# Save the trained pytorch model to torch_path\n",
        "save_model(model_fp32, torch_path)\n",
        "'Saved!'"
      ]
    },
    {
      "cell_type": "code",
      "execution_count": 20,
      "metadata": {
        "id": "CnJHbwj0UAi5",
        "outputId": "be25c8b9-14ac-4b7e-f978-0a7cd649d4e4",
        "colab": {
          "base_uri": "https://localhost:8080/",
          "height": 52
        }
      },
      "outputs": [
        {
          "output_type": "execute_result",
          "data": {
            "text/plain": [
              "'You can now find your model in /content/gdrive/MyDrive/ece5545/models/torch_models/tinyconv_float32_init_seed0_94.01%_0.pt under the folder icon to the left.'"
            ],
            "application/vnd.google.colaboratory.intrinsic+json": {
              "type": "string"
            }
          },
          "metadata": {},
          "execution_count": 20
        }
      ],
      "source": [
        "'You can now find your model in %s under the folder icon to the left.' % torch_path"
      ]
    },
    {
      "cell_type": "code",
      "execution_count": null,
      "metadata": {
        "id": "kauQRx68xaeo"
      },
      "outputs": [],
      "source": []
    }
  ],
  "metadata": {
    "accelerator": "GPU",
    "colab": {
      "name": "3_training_and_analysis.ipynb",
      "provenance": [],
      "gpuType": "V100",
      "include_colab_link": true
    },
    "interpreter": {
      "hash": "92bf126df007708fd70c442c808ee74575bedf7ea6317e0b182c3af0184af25d"
    },
    "kernelspec": {
      "display_name": "Python 3",
      "name": "python3"
    },
    "language_info": {
      "name": "python"
    },
    "widgets": {
      "application/vnd.jupyter.widget-state+json": {
        "4ab3e3b8eb434f26b0d9cb6764b61f4d": {
          "model_module": "@jupyter-widgets/controls",
          "model_name": "HBoxModel",
          "model_module_version": "1.5.0",
          "state": {
            "_dom_classes": [],
            "_model_module": "@jupyter-widgets/controls",
            "_model_module_version": "1.5.0",
            "_model_name": "HBoxModel",
            "_view_count": null,
            "_view_module": "@jupyter-widgets/controls",
            "_view_module_version": "1.5.0",
            "_view_name": "HBoxView",
            "box_style": "",
            "children": [
              "IPY_MODEL_0e807c1e455d43f7b4c65f428197f42c",
              "IPY_MODEL_1d08957b0db8452dae170eba198ca432",
              "IPY_MODEL_3eb74adacfcf4689a68b4dc192f5f914"
            ],
            "layout": "IPY_MODEL_49da644f48f247d3a64b7c700f9d802b"
          }
        },
        "0e807c1e455d43f7b4c65f428197f42c": {
          "model_module": "@jupyter-widgets/controls",
          "model_name": "HTMLModel",
          "model_module_version": "1.5.0",
          "state": {
            "_dom_classes": [],
            "_model_module": "@jupyter-widgets/controls",
            "_model_module_version": "1.5.0",
            "_model_name": "HTMLModel",
            "_view_count": null,
            "_view_module": "@jupyter-widgets/controls",
            "_view_module_version": "1.5.0",
            "_view_name": "HTMLView",
            "description": "",
            "description_tooltip": null,
            "layout": "IPY_MODEL_5e7ae8536d8e4899bfcf503d45ccc6e9",
            "placeholder": "​",
            "style": "IPY_MODEL_e99f2b2a56ee4322a2c960972818d445",
            "value": "100%"
          }
        },
        "1d08957b0db8452dae170eba198ca432": {
          "model_module": "@jupyter-widgets/controls",
          "model_name": "FloatProgressModel",
          "model_module_version": "1.5.0",
          "state": {
            "_dom_classes": [],
            "_model_module": "@jupyter-widgets/controls",
            "_model_module_version": "1.5.0",
            "_model_name": "FloatProgressModel",
            "_view_count": null,
            "_view_module": "@jupyter-widgets/controls",
            "_view_module_version": "1.5.0",
            "_view_name": "ProgressView",
            "bar_style": "success",
            "description": "",
            "description_tooltip": null,
            "layout": "IPY_MODEL_38e4909bd61e4195a5ec8c91e01d2050",
            "max": 50,
            "min": 0,
            "orientation": "horizontal",
            "style": "IPY_MODEL_334d5fca592048699b79ee06ea53238f",
            "value": 50
          }
        },
        "3eb74adacfcf4689a68b4dc192f5f914": {
          "model_module": "@jupyter-widgets/controls",
          "model_name": "HTMLModel",
          "model_module_version": "1.5.0",
          "state": {
            "_dom_classes": [],
            "_model_module": "@jupyter-widgets/controls",
            "_model_module_version": "1.5.0",
            "_model_name": "HTMLModel",
            "_view_count": null,
            "_view_module": "@jupyter-widgets/controls",
            "_view_module_version": "1.5.0",
            "_view_name": "HTMLView",
            "description": "",
            "description_tooltip": null,
            "layout": "IPY_MODEL_02b0d21f5ccd4e78afd3aa169098adb8",
            "placeholder": "​",
            "style": "IPY_MODEL_4a2b6223c9ff460a91922808ba5c4993",
            "value": " 50/50 [2:37:17&lt;00:00, 127.05s/it]"
          }
        },
        "49da644f48f247d3a64b7c700f9d802b": {
          "model_module": "@jupyter-widgets/base",
          "model_name": "LayoutModel",
          "model_module_version": "1.2.0",
          "state": {
            "_model_module": "@jupyter-widgets/base",
            "_model_module_version": "1.2.0",
            "_model_name": "LayoutModel",
            "_view_count": null,
            "_view_module": "@jupyter-widgets/base",
            "_view_module_version": "1.2.0",
            "_view_name": "LayoutView",
            "align_content": null,
            "align_items": null,
            "align_self": null,
            "border": null,
            "bottom": null,
            "display": null,
            "flex": null,
            "flex_flow": null,
            "grid_area": null,
            "grid_auto_columns": null,
            "grid_auto_flow": null,
            "grid_auto_rows": null,
            "grid_column": null,
            "grid_gap": null,
            "grid_row": null,
            "grid_template_areas": null,
            "grid_template_columns": null,
            "grid_template_rows": null,
            "height": null,
            "justify_content": null,
            "justify_items": null,
            "left": null,
            "margin": null,
            "max_height": null,
            "max_width": null,
            "min_height": null,
            "min_width": null,
            "object_fit": null,
            "object_position": null,
            "order": null,
            "overflow": null,
            "overflow_x": null,
            "overflow_y": null,
            "padding": null,
            "right": null,
            "top": null,
            "visibility": null,
            "width": null
          }
        },
        "5e7ae8536d8e4899bfcf503d45ccc6e9": {
          "model_module": "@jupyter-widgets/base",
          "model_name": "LayoutModel",
          "model_module_version": "1.2.0",
          "state": {
            "_model_module": "@jupyter-widgets/base",
            "_model_module_version": "1.2.0",
            "_model_name": "LayoutModel",
            "_view_count": null,
            "_view_module": "@jupyter-widgets/base",
            "_view_module_version": "1.2.0",
            "_view_name": "LayoutView",
            "align_content": null,
            "align_items": null,
            "align_self": null,
            "border": null,
            "bottom": null,
            "display": null,
            "flex": null,
            "flex_flow": null,
            "grid_area": null,
            "grid_auto_columns": null,
            "grid_auto_flow": null,
            "grid_auto_rows": null,
            "grid_column": null,
            "grid_gap": null,
            "grid_row": null,
            "grid_template_areas": null,
            "grid_template_columns": null,
            "grid_template_rows": null,
            "height": null,
            "justify_content": null,
            "justify_items": null,
            "left": null,
            "margin": null,
            "max_height": null,
            "max_width": null,
            "min_height": null,
            "min_width": null,
            "object_fit": null,
            "object_position": null,
            "order": null,
            "overflow": null,
            "overflow_x": null,
            "overflow_y": null,
            "padding": null,
            "right": null,
            "top": null,
            "visibility": null,
            "width": null
          }
        },
        "e99f2b2a56ee4322a2c960972818d445": {
          "model_module": "@jupyter-widgets/controls",
          "model_name": "DescriptionStyleModel",
          "model_module_version": "1.5.0",
          "state": {
            "_model_module": "@jupyter-widgets/controls",
            "_model_module_version": "1.5.0",
            "_model_name": "DescriptionStyleModel",
            "_view_count": null,
            "_view_module": "@jupyter-widgets/base",
            "_view_module_version": "1.2.0",
            "_view_name": "StyleView",
            "description_width": ""
          }
        },
        "38e4909bd61e4195a5ec8c91e01d2050": {
          "model_module": "@jupyter-widgets/base",
          "model_name": "LayoutModel",
          "model_module_version": "1.2.0",
          "state": {
            "_model_module": "@jupyter-widgets/base",
            "_model_module_version": "1.2.0",
            "_model_name": "LayoutModel",
            "_view_count": null,
            "_view_module": "@jupyter-widgets/base",
            "_view_module_version": "1.2.0",
            "_view_name": "LayoutView",
            "align_content": null,
            "align_items": null,
            "align_self": null,
            "border": null,
            "bottom": null,
            "display": null,
            "flex": null,
            "flex_flow": null,
            "grid_area": null,
            "grid_auto_columns": null,
            "grid_auto_flow": null,
            "grid_auto_rows": null,
            "grid_column": null,
            "grid_gap": null,
            "grid_row": null,
            "grid_template_areas": null,
            "grid_template_columns": null,
            "grid_template_rows": null,
            "height": null,
            "justify_content": null,
            "justify_items": null,
            "left": null,
            "margin": null,
            "max_height": null,
            "max_width": null,
            "min_height": null,
            "min_width": null,
            "object_fit": null,
            "object_position": null,
            "order": null,
            "overflow": null,
            "overflow_x": null,
            "overflow_y": null,
            "padding": null,
            "right": null,
            "top": null,
            "visibility": null,
            "width": null
          }
        },
        "334d5fca592048699b79ee06ea53238f": {
          "model_module": "@jupyter-widgets/controls",
          "model_name": "ProgressStyleModel",
          "model_module_version": "1.5.0",
          "state": {
            "_model_module": "@jupyter-widgets/controls",
            "_model_module_version": "1.5.0",
            "_model_name": "ProgressStyleModel",
            "_view_count": null,
            "_view_module": "@jupyter-widgets/base",
            "_view_module_version": "1.2.0",
            "_view_name": "StyleView",
            "bar_color": null,
            "description_width": ""
          }
        },
        "02b0d21f5ccd4e78afd3aa169098adb8": {
          "model_module": "@jupyter-widgets/base",
          "model_name": "LayoutModel",
          "model_module_version": "1.2.0",
          "state": {
            "_model_module": "@jupyter-widgets/base",
            "_model_module_version": "1.2.0",
            "_model_name": "LayoutModel",
            "_view_count": null,
            "_view_module": "@jupyter-widgets/base",
            "_view_module_version": "1.2.0",
            "_view_name": "LayoutView",
            "align_content": null,
            "align_items": null,
            "align_self": null,
            "border": null,
            "bottom": null,
            "display": null,
            "flex": null,
            "flex_flow": null,
            "grid_area": null,
            "grid_auto_columns": null,
            "grid_auto_flow": null,
            "grid_auto_rows": null,
            "grid_column": null,
            "grid_gap": null,
            "grid_row": null,
            "grid_template_areas": null,
            "grid_template_columns": null,
            "grid_template_rows": null,
            "height": null,
            "justify_content": null,
            "justify_items": null,
            "left": null,
            "margin": null,
            "max_height": null,
            "max_width": null,
            "min_height": null,
            "min_width": null,
            "object_fit": null,
            "object_position": null,
            "order": null,
            "overflow": null,
            "overflow_x": null,
            "overflow_y": null,
            "padding": null,
            "right": null,
            "top": null,
            "visibility": null,
            "width": null
          }
        },
        "4a2b6223c9ff460a91922808ba5c4993": {
          "model_module": "@jupyter-widgets/controls",
          "model_name": "DescriptionStyleModel",
          "model_module_version": "1.5.0",
          "state": {
            "_model_module": "@jupyter-widgets/controls",
            "_model_module_version": "1.5.0",
            "_model_name": "DescriptionStyleModel",
            "_view_count": null,
            "_view_module": "@jupyter-widgets/base",
            "_view_module_version": "1.2.0",
            "_view_name": "StyleView",
            "description_width": ""
          }
        }
      }
    }
  },
  "nbformat": 4,
  "nbformat_minor": 0
}