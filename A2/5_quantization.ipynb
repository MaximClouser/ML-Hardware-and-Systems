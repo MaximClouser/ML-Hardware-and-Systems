{
  "cells": [
    {
      "cell_type": "markdown",
      "metadata": {
        "id": "view-in-github",
        "colab_type": "text"
      },
      "source": [
        "<a href=\"https://colab.research.google.com/github/ML-HW-SYS/a2-MaximClouser/blob/main/5_quantization.ipynb\" target=\"_parent\"><img src=\"https://colab.research.google.com/assets/colab-badge.svg\" alt=\"Open In Colab\"/></a>"
      ]
    },
    {
      "cell_type": "markdown",
      "metadata": {
        "id": "DLNHtJrAqKWo"
      },
      "source": [
        "# **5. Quantization**\n"
      ]
    },
    {
      "cell_type": "markdown",
      "metadata": {
        "id": "h5kS114ooq-0"
      },
      "source": [
        "## 5.0 Setup Capabilities"
      ]
    },
    {
      "cell_type": "code",
      "execution_count": 1,
      "metadata": {
        "id": "zjOhFCIkxVfL",
        "colab": {
          "base_uri": "https://localhost:8080/"
        },
        "outputId": "8647a16c-f031-442a-b7ef-1f3e75d4ea00"
      },
      "outputs": [
        {
          "output_type": "stream",
          "name": "stdout",
          "text": [
            "Mounted at /content/gdrive\n"
          ]
        }
      ],
      "source": [
        "# Mount google drive\n",
        "from google.colab import drive\n",
        "drive.mount('/content/gdrive')"
      ]
    },
    {
      "cell_type": "code",
      "execution_count": 2,
      "metadata": {
        "id": "hoEUDK6KxVfM"
      },
      "outputs": [],
      "source": [
        "# Make sure your token is stored in a txt file at the location below.\n",
        "# This way there is no risk that you will push it to your repo\n",
        "# Never share your token with anyone, it is basically your github password!\n",
        "with open('/content/gdrive/MyDrive/ece5545/token.txt') as f:\n",
        "    token = f.readline().strip()\n",
        "# Use another file to store your github username\n",
        "with open('/content/gdrive/MyDrive/ece5545/git_username.txt') as f:\n",
        "    handle = f.readline().strip()"
      ]
    },
    {
      "cell_type": "code",
      "execution_count": 3,
      "metadata": {
        "id": "lXP6DjaqxVfM",
        "colab": {
          "base_uri": "https://localhost:8080/"
        },
        "outputId": "6bd21959-dbf1-4cb6-ad11-1d5fd5e2e139"
      },
      "outputs": [
        {
          "output_type": "stream",
          "name": "stdout",
          "text": [
            "/content/gdrive/MyDrive/ece5545\n",
            "fatal: destination path 'a2-MaximClouser' already exists and is not an empty directory.\n",
            "/content/gdrive/MyDrive/ece5545/a2-MaximClouser\n",
            "Already on 'main'\n",
            "Your branch is up to date with 'origin/main'.\n",
            "remote: Enumerating objects: 5, done.\u001b[K\n",
            "remote: Counting objects: 100% (5/5), done.\u001b[K\n",
            "remote: Compressing objects: 100% (3/3), done.\u001b[K\n",
            "remote: Total 3 (delta 2), reused 0 (delta 0), pack-reused 0\u001b[K\n",
            "Unpacking objects: 100% (3/3), 376 bytes | 1024 bytes/s, done.\n",
            "From https://github.com/ML-HW-SYS/a2-MaximClouser\n",
            "   f3ef509..eff03c8  main       -> origin/main\n",
            "Updating f3ef509..eff03c8\n",
            "Fast-forward\n",
            " 6_pruning.ipynb | 26 \u001b[32m++++++++++\u001b[m\u001b[31m----------------\u001b[m\n",
            " 1 file changed, 10 insertions(+), 16 deletions(-)\n",
            "/content/gdrive/MyDrive/ece5545\n"
          ]
        }
      ],
      "source": [
        "# Clone your github repo\n",
        "YOUR_TOKEN = token\n",
        "YOUR_HANDLE = handle\n",
        "BRANCH = \"main\"\n",
        "\n",
        "# %mkdir /content/gdrive/MyDrive/ece5545\n",
        "%cd /content/gdrive/MyDrive/ece5545\n",
        "!git clone https://{YOUR_TOKEN}@github.com/ML-HW-SYS/a2-{YOUR_HANDLE}.git\n",
        "%cd /content/gdrive/MyDrive/ece5545/a2-{YOUR_HANDLE}\n",
        "!git checkout {BRANCH}\n",
        "!git pull\n",
        "%cd /content/gdrive/MyDrive/ece5545\n",
        "\n",
        "PROJECT_ROOT = f\"/content/gdrive/MyDrive/ece5545/a2-{YOUR_HANDLE}\""
      ]
    },
    {
      "cell_type": "code",
      "execution_count": 4,
      "metadata": {
        "id": "6eDWK1EVxVfN"
      },
      "outputs": [],
      "source": [
        "# This extension reloads all imports before running each cell\n",
        "%load_ext autoreload\n",
        "%autoreload 2"
      ]
    },
    {
      "cell_type": "markdown",
      "metadata": {
        "id": "4w6cL9l3xVfO"
      },
      "source": [
        "Please verify the cell below prints out the github repository."
      ]
    },
    {
      "cell_type": "code",
      "execution_count": 5,
      "metadata": {
        "id": "TQSeJ7fExVfP",
        "colab": {
          "base_uri": "https://localhost:8080/"
        },
        "outputId": "16940c3f-8d05-4ca7-eb1c-76d3ed0535a3"
      },
      "outputs": [
        {
          "output_type": "stream",
          "name": "stdout",
          "text": [
            "1_audio_preprocessing.ipynb\t     5_quantization.ipynb\t      README.md\n",
            "2_size_estimator_and_profiler.ipynb  6_pruning.ipynb\t\t      src\n",
            "3_training_and_analysis.ipynb\t     arduino_nano_33_ble_tutorial.md  tests\n",
            "4_model_conversion.ipynb\t     images\n"
          ]
        }
      ],
      "source": [
        "!ls '{PROJECT_ROOT}'"
      ]
    },
    {
      "cell_type": "markdown",
      "metadata": {
        "id": "MM5gV8CNqd-s"
      },
      "source": [
        "### Install required packages"
      ]
    },
    {
      "cell_type": "code",
      "execution_count": 6,
      "metadata": {
        "id": "NLE4Xmakoq-4",
        "colab": {
          "base_uri": "https://localhost:8080/"
        },
        "outputId": "a2a10f23-49ae-495e-a29a-91a7d75361b2"
      },
      "outputs": [
        {
          "output_type": "stream",
          "name": "stdout",
          "text": [
            "Requirement already satisfied: tqdm in /usr/local/lib/python3.10/dist-packages (4.66.2)\n",
            "Requirement already satisfied: torchaudio in /usr/local/lib/python3.10/dist-packages (2.1.0+cu121)\n",
            "Requirement already satisfied: torch==2.1.0 in /usr/local/lib/python3.10/dist-packages (from torchaudio) (2.1.0+cu121)\n",
            "Requirement already satisfied: filelock in /usr/local/lib/python3.10/dist-packages (from torch==2.1.0->torchaudio) (3.13.1)\n",
            "Requirement already satisfied: typing-extensions in /usr/local/lib/python3.10/dist-packages (from torch==2.1.0->torchaudio) (4.10.0)\n",
            "Requirement already satisfied: sympy in /usr/local/lib/python3.10/dist-packages (from torch==2.1.0->torchaudio) (1.12)\n",
            "Requirement already satisfied: networkx in /usr/local/lib/python3.10/dist-packages (from torch==2.1.0->torchaudio) (3.2.1)\n",
            "Requirement already satisfied: jinja2 in /usr/local/lib/python3.10/dist-packages (from torch==2.1.0->torchaudio) (3.1.3)\n",
            "Requirement already satisfied: fsspec in /usr/local/lib/python3.10/dist-packages (from torch==2.1.0->torchaudio) (2023.6.0)\n",
            "Requirement already satisfied: triton==2.1.0 in /usr/local/lib/python3.10/dist-packages (from torch==2.1.0->torchaudio) (2.1.0)\n",
            "Requirement already satisfied: MarkupSafe>=2.0 in /usr/local/lib/python3.10/dist-packages (from jinja2->torch==2.1.0->torchaudio) (2.1.5)\n",
            "Requirement already satisfied: mpmath>=0.19 in /usr/local/lib/python3.10/dist-packages (from sympy->torch==2.1.0->torchaudio) (1.3.0)\n"
          ]
        }
      ],
      "source": [
        "# Install libraries\n",
        "!pip install tqdm\n",
        "!pip install torchaudio"
      ]
    },
    {
      "cell_type": "markdown",
      "metadata": {
        "id": "55zgRQWVqu6n"
      },
      "source": [
        "### Import code dependencies"
      ]
    },
    {
      "cell_type": "code",
      "execution_count": 7,
      "metadata": {
        "id": "0pk0tnhRoq-5",
        "colab": {
          "base_uri": "https://localhost:8080/"
        },
        "outputId": "7acf28f5-a07c-418c-92e5-50bdb958d59b"
      },
      "outputs": [
        {
          "output_type": "stream",
          "name": "stdout",
          "text": [
            "Model folders are created, \n",
            "PyTorch models will be saved in /content/gdrive/MyDrive/ece5545/models/torch_models, \n",
            "ONNX models will be saved in /content/gdrive/MyDrive/ece5545/models/onnx_models, \n",
            "TensorFlow Saved Models will be saved in /content/gdrive/MyDrive/ece5545/models/tf_models, \n",
            "TensorFlow Lite models will be saved in /content/gdrive/MyDrive/ece5545/models/tflite_models, \n",
            "TensorFlow Lite Micro models will be saved in /content/gdrive/MyDrive/ece5545/models/micro_models.\n"
          ]
        }
      ],
      "source": [
        "# Import libraries\n",
        "import torch\n",
        "import torch.nn as nn\n",
        "import torch.nn.functional as F\n",
        "import torch.optim as optim\n",
        "\n",
        "import matplotlib.pyplot as plt\n",
        "from tqdm.notebook import tqdm\n",
        "import numpy as np\n",
        "import copy\n",
        "import os\n",
        "\n",
        "import sys\n",
        "\n",
        "# Adding assignment 2 to the system path\n",
        "# -- make sure this matches your git directory\n",
        "sys.path.insert(0, PROJECT_ROOT)\n",
        "\n",
        "# Import data_proc to use data processing functions\n",
        "import src.data_proc as data_proc\n",
        "\n",
        "# Import constants to use constants defined for training\n",
        "from src.constants import *\n",
        "\n",
        "# Set random seed\n",
        "# Make sure the shuffling and picking is deterministic\n",
        "# Note that different value of random_seed may change rate of variation in loss/accuracy during training\n",
        "# Using the same random seed value every time you rerun the notebook will\n",
        "# reproduce the training and testing results\n",
        "random_seed = RANDOM_SEED\n",
        "torch.manual_seed(random_seed)\n",
        "torch.cuda.manual_seed(random_seed)\n",
        "np.random.seed(random_seed)"
      ]
    },
    {
      "cell_type": "markdown",
      "metadata": {
        "id": "qPNyurTpoq_C"
      },
      "source": [
        "## 5.1 Define Quantization Functions\n",
        "\n",
        "There are some test cases in the `tests` folder to verify basic functionality of your implemented functions--these will be run automatically every time you check in your code. Additionally, we've left some simple tests in this notebook as well for you to try things out.\n",
        "\n"
      ]
    },
    {
      "cell_type": "markdown",
      "metadata": {
        "id": "hTaCRrjeJgBR"
      },
      "source": [
        "#### TODO 0: Implement the backward pass of `ste_round` function in `src/quant.py`"
      ]
    },
    {
      "cell_type": "code",
      "execution_count": 8,
      "metadata": {
        "id": "VQy4ffsVPc8o"
      },
      "outputs": [],
      "source": [
        "# add a test if you like. There's already one under tests/"
      ]
    },
    {
      "cell_type": "markdown",
      "metadata": {
        "id": "zOvGVC1CxVfR"
      },
      "source": [
        "\n",
        "#### TODO 1: Implement the `linear_quantize` function in `src/quant.py`\n"
      ]
    },
    {
      "cell_type": "code",
      "execution_count": 9,
      "metadata": {
        "id": "EXUIpaEMoq_C",
        "colab": {
          "base_uri": "https://localhost:8080/"
        },
        "outputId": "de2bbf0a-0413-4bca-cc45-487f4a2a4ca2"
      },
      "outputs": [
        {
          "output_type": "stream",
          "name": "stdout",
          "text": [
            "tensor([2., -0., 0., 1.])\n"
          ]
        }
      ],
      "source": [
        "from src.quant import linear_quantize\n",
        "\n",
        "# Mini test case for linear_quantize\n",
        "with torch.no_grad():\n",
        "    x = torch.tensor([2, -0.5, 0., 1.])\n",
        "    scale = 1\n",
        "    zero = 0\n",
        "    y = linear_quantize(x, scale, zero)\n",
        "    print(y)"
      ]
    },
    {
      "cell_type": "markdown",
      "metadata": {
        "id": "bvZ9zUycxVfR"
      },
      "source": [
        "#### TODO 2: Implement the `SymmetricQuantFunction` forward function in `src/quant.py`\n"
      ]
    },
    {
      "cell_type": "code",
      "execution_count": 10,
      "metadata": {
        "id": "RxiSaE_dxVfR",
        "colab": {
          "base_uri": "https://localhost:8080/"
        },
        "outputId": "6765851e-1d4b-44f8-accc-336622950e09"
      },
      "outputs": [
        {
          "output_type": "stream",
          "name": "stdout",
          "text": [
            "tensor([1., -0., 0., 1.], grad_fn=<SymmetricQuantFunctionBackward>)\n",
            "tensor([2., -0., 0., 2.])\n"
          ]
        }
      ],
      "source": [
        "from src.quant import SymmetricQuantFunction\n",
        "\n",
        "quant_f = SymmetricQuantFunction.apply\n",
        "\n",
        "x = torch.tensor([2, -0.5, 0., 1.])\n",
        "x.requires_grad = True\n",
        "bw = 2\n",
        "y = quant_f(x, bw, scale, zero)\n",
        "(y ** 2).sum().backward()\n",
        "\n",
        "print(y)\n",
        "print(x.grad)"
      ]
    },
    {
      "cell_type": "markdown",
      "metadata": {
        "id": "7M_CmQ5-xVfS"
      },
      "source": [
        "#### TODO 3: Implement the `AsymmetricQuantFunction` forward function in `src/quant.py`"
      ]
    },
    {
      "cell_type": "code",
      "execution_count": 11,
      "metadata": {
        "id": "XQBP2WWtxVfS",
        "colab": {
          "base_uri": "https://localhost:8080/"
        },
        "outputId": "4a687e9f-58af-429e-cc15-9ede885c45bc"
      },
      "outputs": [
        {
          "output_type": "stream",
          "name": "stdout",
          "text": [
            "tensor([2., -0., 0., 1.], grad_fn=<AsymmetricQuantFunctionBackward>)\n",
            "tensor([4., -0., 0., 2.])\n"
          ]
        }
      ],
      "source": [
        "from src.quant import AsymmetricQuantFunction\n",
        "\n",
        "quant_f = AsymmetricQuantFunction.apply\n",
        "\n",
        "x = torch.tensor([2, -0.5, 0., 1.])\n",
        "x.requires_grad = True\n",
        "bw = 2\n",
        "y = quant_f(x, bw, scale, zero)\n",
        "(y ** 2).sum().backward()\n",
        "\n",
        "print(y)\n",
        "print(x.grad)"
      ]
    },
    {
      "cell_type": "markdown",
      "metadata": {
        "id": "EClG-iStxVfS"
      },
      "source": [
        "#### TODO 4: Finish the Implement of `get_quantization_params` function in `src/quant.py`"
      ]
    },
    {
      "cell_type": "code",
      "execution_count": 12,
      "metadata": {
        "id": "wtjXI5zjxVfS",
        "colab": {
          "base_uri": "https://localhost:8080/"
        },
        "outputId": "34a4e52b-1027-4dd8-a0a9-51b2162f3d12"
      },
      "outputs": [
        {
          "output_type": "stream",
          "name": "stdout",
          "text": [
            "(tensor(0.2857), tensor(0))\n",
            "(tensor(0.1667), tensor(3.))\n"
          ]
        }
      ],
      "source": [
        "from src.quant import QConfig\n",
        "\n",
        "qconfig = QConfig(quant_bits=4, is_symmetric=True)\n",
        "print(qconfig.get_quantization_params(x.min(), x.max()))\n",
        "\n",
        "qconfig = QConfig(quant_bits=4, is_symmetric=False)\n",
        "print(qconfig.get_quantization_params(x.min(), x.max()))"
      ]
    },
    {
      "cell_type": "markdown",
      "metadata": {
        "id": "MLT8xONCoq_D"
      },
      "source": [
        "#### TODO 5: Implement the `quantize_weights_bias` function in `src/quant.py`"
      ]
    },
    {
      "cell_type": "code",
      "execution_count": 13,
      "metadata": {
        "id": "1athpSf1oq_D",
        "colab": {
          "base_uri": "https://localhost:8080/"
        },
        "outputId": "1c57113c-1d80-4c9c-9711-9971ab400165"
      },
      "outputs": [
        {
          "output_type": "stream",
          "name": "stdout",
          "text": [
            "tensor([ 7., -2.,  0.,  3.])\n",
            "tensor([ 7., -3.,  0.,  4.])\n"
          ]
        }
      ],
      "source": [
        "from src.quant import quantize_weights_bias, QConfig\n",
        "\n",
        "qconfig = QConfig(quant_bits=4, is_symmetric=True)\n",
        "\n",
        "w1 = nn.Parameter(torch.tensor([2, -0.5, 0., 1.]))\n",
        "qw1 = quantize_weights_bias(w1, qconfig)\n",
        "print(qw1.data)\n",
        "\n",
        "w2 = nn.Parameter(torch.tensor([2.5, -1, 0., 1.5]))\n",
        "qw2 = quantize_weights_bias(w2, qconfig)\n",
        "print(qw2.data)"
      ]
    },
    {
      "cell_type": "markdown",
      "metadata": {
        "id": "xnpBdnuBoq_E"
      },
      "source": [
        "## 5.2 Quantization Function for Linear and Convolution Layer\n",
        "\n",
        "#### TODO 6: Finish the implementation of `conv2d_linear_quantized` function in `src/quant.py`"
      ]
    },
    {
      "cell_type": "code",
      "execution_count": 14,
      "metadata": {
        "id": "XNN8WiYPoq_E",
        "colab": {
          "base_uri": "https://localhost:8080/"
        },
        "outputId": "afdcb412-082f-436d-d4e4-658b8ca19be0"
      },
      "outputs": [
        {
          "output_type": "stream",
          "name": "stdout",
          "text": [
            "tensor([[1.1000, 2.1000]], grad_fn=<AddmmBackward0>)\n",
            "tensor([[0.9571, 2.1000]], grad_fn=<AddmmBackward0>)\n"
          ]
        }
      ],
      "source": [
        "import torch.nn as nn\n",
        "from src.quant import QuantWrapper\n",
        "\n",
        "layer = nn.Linear(2, 2)\n",
        "layer.weight.data = torch.tensor([[0.1, 0.1], [-0.1, 0.1]]).view(2, 2).float()\n",
        "layer.bias.data = torch.tensor([1, 2]).view(*layer.bias.shape).float()\n",
        "x = torch.tensor([[0., 1]])\n",
        "print(layer(x))\n",
        "\n",
        "quant_layer = QuantWrapper(\n",
        "    layer,\n",
        "    QConfig(quant_bits=4, is_symmetric=True),\n",
        "    QConfig(quant_bits=4, is_symmetric=True),\n",
        "    QConfig(quant_bits=4, is_symmetric=True))\n",
        "print(quant_layer(x))\n"
      ]
    },
    {
      "cell_type": "markdown",
      "metadata": {
        "id": "lax5KDyxoq_F"
      },
      "source": [
        "## 5.3 Prepare model for QAT (Quantization Aware Training)"
      ]
    },
    {
      "cell_type": "markdown",
      "metadata": {
        "id": "yLFhKVStmTbG"
      },
      "source": [
        "### Get Audio Processor, Devices, Data Loader, and Model\n",
        "\n",
        "NOTE: This is identical to section 2.2 ."
      ]
    },
    {
      "cell_type": "code",
      "execution_count": 15,
      "metadata": {
        "id": "SBcLXHHim6ry",
        "colab": {
          "base_uri": "https://localhost:8080/"
        },
        "outputId": "02de5717-1bd2-4fa1-9f09-b1cca327bd38"
      },
      "outputs": [
        {
          "output_type": "stream",
          "name": "stdout",
          "text": [
            ">> Downloading speech_commands_v0.02.tar.gz 100.0%\n",
            "Audio_processor created\n",
            "Using cuda to run the training scrpit.\n",
            "Train size: 10556 Val size: 1333 Test size: 1368\n"
          ]
        },
        {
          "output_type": "execute_result",
          "data": {
            "text/plain": [
              "TinyConv(\n",
              "  (conv_reshape): Reshape(output_shape=(-1, 1, 49, 40))\n",
              "  (conv): Conv2d(1, 8, kernel_size=(10, 8), stride=(2, 2), padding=(5, 3))\n",
              "  (relu): ReLU()\n",
              "  (dropout): Dropout(p=0.5, inplace=False)\n",
              "  (fc_reshape): Reshape(output_shape=(-1, 4000))\n",
              "  (fc): Linear(in_features=4000, out_features=4, bias=True)\n",
              "  (softmax): Softmax(dim=1)\n",
              ")"
            ]
          },
          "metadata": {},
          "execution_count": 15
        }
      ],
      "source": [
        "# Create audio_processor\n",
        "# DATASET_DIR is defined in constants.py\n",
        "# HINT: In case loading data takes too long, move the dataset from gdrive to /content/ and change the path accordingly.\n",
        "\n",
        "DATASET_DIR = '/content/dataset' # As per Ed post regarding data loading getting stuck\n",
        "audio_processor = data_proc.AudioProcessor(data_dir=DATASET_DIR)\n",
        "print(\"Audio_processor created\")\n",
        "\n",
        "# Define device\n",
        "device = torch.device(\"cuda\" if torch.cuda.is_available() else \"cpu\")\n",
        "print(f'Using {device} to run the training scrpit.')\n",
        "\n",
        "# Define data loaders\n",
        "from src.loaders import make_data_loaders\n",
        "data_loaders = make_data_loaders(audio_processor, device)\n",
        "train_loader = data_loaders['training']\n",
        "test_loader = data_loaders['testing']\n",
        "valid_loader = data_loaders['validation']\n",
        "\n",
        "# Create a full precision (float32) TinyConv model\n",
        "from src.networks import TinyConv\n",
        "model_fp32 = TinyConv(model_settings=audio_processor.model_settings, \\\n",
        "    n_input=1, n_output=audio_processor.num_labels)\n",
        "\n",
        "model_fp32"
      ]
    },
    {
      "cell_type": "markdown",
      "metadata": {
        "id": "P7wcn11MxVfT"
      },
      "source": [
        "### Load Pretrained Model for Quantization Aware Finetuning\n",
        "\n",
        "In this notebook, we will load the previously trained 32-bits float model to finetune it in a quantizaiton-aware way.\n",
        "\n"
      ]
    },
    {
      "cell_type": "code",
      "execution_count": 16,
      "metadata": {
        "id": "e_QYYl4oxVfT",
        "colab": {
          "base_uri": "https://localhost:8080/"
        },
        "outputId": "bf4a3b98-5404-46e9-f55b-4b7fdc653a4d"
      },
      "outputs": [
        {
          "output_type": "stream",
          "name": "stdout",
          "text": [
            " fp32_checkpoint.pt\t      '(QAT4bit)quant_0.pt'   quant_checkpoint.pt\n",
            " fp32_finetune_checkpoint.pt  '(QAT6bit)quant_0.pt'   tinyconv_float32_init_seed0_94.01%_0.pt\n",
            "'(QAT2bit)quant_0.pt'\t      '(QAT8bit)quant_0.pt'\n"
          ]
        }
      ],
      "source": [
        "!ls {TORCH_DIR}"
      ]
    },
    {
      "cell_type": "markdown",
      "metadata": {
        "id": "ys6gVPF6xVfT"
      },
      "source": [
        "### **TODO: Replace the torch_path model with the model you created in the last section.**\n",
        "\n",
        "You can find the name of your file in `TORCH_DIR` under the folder icon to the left. (Or from running the tab above)."
      ]
    },
    {
      "cell_type": "code",
      "execution_count": 17,
      "metadata": {
        "id": "98TcWxPWxVfU",
        "colab": {
          "base_uri": "https://localhost:8080/"
        },
        "outputId": "8fff2dc9-6b11-4c42-82ea-7a8ed4467989"
      },
      "outputs": [
        {
          "output_type": "execute_result",
          "data": {
            "text/plain": [
              "TinyConv(\n",
              "  (conv_reshape): Reshape(output_shape=(-1, 1, 49, 40))\n",
              "  (conv): Conv2d(1, 8, kernel_size=(10, 8), stride=(2, 2), padding=(5, 3))\n",
              "  (relu): ReLU()\n",
              "  (dropout): Dropout(p=0.5, inplace=False)\n",
              "  (fc_reshape): Reshape(output_shape=(-1, 4000))\n",
              "  (fc): Linear(in_features=4000, out_features=4, bias=True)\n",
              "  (softmax): Softmax(dim=1)\n",
              ")"
            ]
          },
          "metadata": {},
          "execution_count": 17
        }
      ],
      "source": [
        "# TODO: Replace me!\n",
        "# torch_path = os.path.join(TORCH_DIR, \"tinyconv_float32_init_seed0_94.01%_0.pt\")\n",
        "TORCH_DIR = \"./models/torch_models/\"\n",
        "torch_path = \"./models/torch_models/tinyconv_float32_init_seed0_94.01%_0.pt\"\n",
        "\n",
        "# Load model\n",
        "model_fp32.load_state_dict(torch.load(torch_path))\n",
        "model_fp32"
      ]
    },
    {
      "cell_type": "markdown",
      "metadata": {
        "id": "s6RTZp_yoq_F"
      },
      "source": [
        "### Define settings for weight and activation quantization"
      ]
    },
    {
      "cell_type": "code",
      "execution_count": 18,
      "metadata": {
        "id": "KrTGvZMtoq_F"
      },
      "outputs": [],
      "source": [
        "# We choose 4 bit quantization as an example because accuracy improvements will\n",
        "# be more obvious with 4-bit or lower bit quantization\n",
        "QUANT_BITS = 6 # was 4\n",
        "# Settings for activations quantization: n-bit asymmetric quantization\n",
        "a_qconfig = QConfig(quant_bits=QUANT_BITS, is_symmetric=False)\n",
        "# Settings for weights quantization: n-bit symmetric quantization\n",
        "w_qconfig = QConfig(quant_bits=QUANT_BITS, is_symmetric=True)\n",
        "# Settings for bias quantization: n-bit symmetric quantization\n",
        "b_qconfig = QConfig(quant_bits=QUANT_BITS, is_symmetric=True)"
      ]
    },
    {
      "cell_type": "markdown",
      "metadata": {
        "id": "5FD7l9cNoq_F"
      },
      "source": [
        "### Prepare quantization aware training model"
      ]
    },
    {
      "cell_type": "code",
      "execution_count": 19,
      "metadata": {
        "id": "capV1g7loq_F",
        "colab": {
          "base_uri": "https://localhost:8080/"
        },
        "outputId": "96c3f30e-357d-4a09-d162-887d4e3b4b76"
      },
      "outputs": [
        {
          "output_type": "stream",
          "name": "stdout",
          "text": [
            "TinyConv(\n",
            "  (conv_reshape): Reshape(output_shape=(-1, 1, 49, 40))\n",
            "  (conv): QuantWrapper(\n",
            "    (module): Conv2d(1, 8, kernel_size=(10, 8), stride=(2, 2), padding=(5, 3))\n",
            "  \t(activation): quant_bits=6, quant_mode=asymmetric, prev_scale=None, prev_zeropoint=None, prev_min=None, prev_max=None  \n",
            "  \t(weight): quant_bits=6, quant_mode=symmetric, prev_scale=None, prev_zeropoint=None, prev_min=None, prev_max=None  \n",
            "  \t(bias): quant_bits=6, quant_mode=symmetric, prev_scale=None, prev_zeropoint=None, prev_min=None, prev_max=None  \n",
            "  )\n",
            "  (relu): ReLU()\n",
            "  (dropout): Dropout(p=0.5, inplace=False)\n",
            "  (fc_reshape): Reshape(output_shape=(-1, 4000))\n",
            "  (fc): QuantWrapper(\n",
            "    (module): Linear(in_features=4000, out_features=4, bias=True)\n",
            "  \t(activation): quant_bits=6, quant_mode=asymmetric, prev_scale=None, prev_zeropoint=None, prev_min=None, prev_max=None  \n",
            "  \t(weight): quant_bits=6, quant_mode=symmetric, prev_scale=None, prev_zeropoint=None, prev_min=None, prev_max=None  \n",
            "  \t(bias): quant_bits=6, quant_mode=symmetric, prev_scale=None, prev_zeropoint=None, prev_min=None, prev_max=None  \n",
            "  )\n",
            "  (softmax): Softmax(dim=1)\n",
            ")\n"
          ]
        }
      ],
      "source": [
        "from src.quant import quantize_model\n",
        "qat_model_nbit = quantize_model(\n",
        "    model_fp32, a_qconfig=a_qconfig, w_qconfig=w_qconfig, b_qconfig=b_qconfig)\n",
        "\n",
        "# Print to see the model prepared for QAT\n",
        "print(qat_model_nbit)"
      ]
    },
    {
      "cell_type": "markdown",
      "metadata": {
        "id": "SkHtQEQXoq_G"
      },
      "source": [
        "##  5.4 Finetuning\n",
        "\n",
        "In this training, we will finetune the 32-bits float pretrained model. The goal is to finetune the weights of the 32-bits float model such that the resulted model will have better accuracy after quantization."
      ]
    },
    {
      "cell_type": "markdown",
      "metadata": {
        "id": "QvZ9g2QlxVfU"
      },
      "source": [
        "### Quantization Aware Finetuning"
      ]
    },
    {
      "cell_type": "code",
      "execution_count": 20,
      "metadata": {
        "id": "fCC9s6dUoq_H",
        "scrolled": false,
        "colab": {
          "base_uri": "https://localhost:8080/",
          "height": 659,
          "referenced_widgets": [
            "c87432e33c334cc39d4dae0e60abe2e9",
            "b9def11d481c4932bb76133ac4cc5502",
            "53cd6259f8804edcab238c784fcc79ee",
            "4d5a2ce9a9be4f408bb0b50b9c0a0a04",
            "e4b62a548b794d44bc0e0c64f1daa3c3",
            "9fb4141a951f4ba08e309db8dcb2773c",
            "2cd4001b92e6413ba6f5fc2de5fd8e44",
            "8461bedb6dbd4dd3849728c3210dd317",
            "ab529f388945409daf28d425e5ff46bf",
            "5049414dfaa944a29e152e13b40fa064",
            "3f7cefd4129f4251ba0cf4135b09a0c7"
          ]
        },
        "outputId": "acfab5c8-c696-4020-8de7-c43343afefa2"
      },
      "outputs": [
        {
          "output_type": "stream",
          "name": "stdout",
          "text": [
            "#batches: 106 \n",
            "#epochs: 30 \n",
            "#total training steps: 3180\n",
            "{'state': {}, 'param_groups': [{'lr': 0.001, 'betas': (0.9, 0.999), 'eps': 1e-08, 'weight_decay': 0.0001, 'amsgrad': False, 'maximize': False, 'foreach': None, 'capturable': False, 'differentiable': False, 'fused': None, 'params': [0, 1, 2, 3]}]}\n"
          ]
        },
        {
          "output_type": "display_data",
          "data": {
            "text/plain": [
              "  0%|          | 0/30 [00:00<?, ?it/s]"
            ],
            "application/vnd.jupyter.widget-view+json": {
              "version_major": 2,
              "version_minor": 0,
              "model_id": "c87432e33c334cc39d4dae0e60abe2e9"
            }
          },
          "metadata": {}
        },
        {
          "output_type": "stream",
          "name": "stdout",
          "text": [
            "Val Acc Epoch 1 = 88.75%, Train loss = 0.446\n",
            "Val Acc Epoch 2 = 89.27%, Train loss = 0.457\n",
            "Val Acc Epoch 3 = 88.97%, Train loss = 0.455\n",
            "Val Acc Epoch 4 = 88.97%, Train loss = 0.436\n",
            "Val Acc Epoch 5 = 89.42%, Train loss = 0.463\n",
            "Val Acc Epoch 6 = 89.27%, Train loss = 0.475\n",
            "Val Acc Epoch 7 = 88.75%, Train loss = 0.47\n",
            "Val Acc Epoch 8 = 88.75%, Train loss = 0.456\n",
            "Val Acc Epoch 9 = 89.65%, Train loss = 0.436\n",
            "Val Acc Epoch 10 = 89.12%, Train loss = 0.45\n",
            "Val Acc Epoch 11 = 89.42%, Train loss = 0.441\n",
            "Val Acc Epoch 12 = 88.82%, Train loss = 0.451\n",
            "Val Acc Epoch 13 = 89.35%, Train loss = 0.453\n",
            "Val Acc Epoch 14 = 89.5%, Train loss = 0.444\n",
            "Val Acc Epoch 15 = 88.97%, Train loss = 0.445\n",
            "Val Acc Epoch 16 = 89.65%, Train loss = 0.431\n",
            "Val Acc Epoch 17 = 89.05%, Train loss = 0.446\n",
            "Val Acc Epoch 18 = 89.95%, Train loss = 0.435\n",
            "Val Acc Epoch 19 = 89.8%, Train loss = 0.435\n",
            "Val Acc Epoch 20 = 89.05%, Train loss = 0.429\n",
            "Val Acc Epoch 21 = 89.5%, Train loss = 0.438\n",
            "Val Acc Epoch 22 = 89.35%, Train loss = 0.444\n",
            "Val Acc Epoch 23 = 90.1%, Train loss = 0.43\n",
            "Val Acc Epoch 24 = 88.6%, Train loss = 0.425\n",
            "Val Acc Epoch 25 = 90.25%, Train loss = 0.44\n",
            "Val Acc Epoch 26 = 89.2%, Train loss = 0.455\n",
            "Val Acc Epoch 27 = 89.5%, Train loss = 0.466\n",
            "Val Acc Epoch 28 = 89.8%, Train loss = 0.437\n",
            "Val Acc Epoch 29 = 89.42%, Train loss = 0.431\n",
            "Val Acc Epoch 30 = 88.67%, Train loss = 0.437\n"
          ]
        }
      ],
      "source": [
        "import time\n",
        "from src.train_val_test_utils import train, test\n",
        "from src.train_val_test_utils import create_optimizer\n",
        "\n",
        "\n",
        "def run_training(model, data_loaders, n_epoch, log_interval, optimizer, scheduler=None,\n",
        "                 save_interval=1, resume=True, checkpoint_path=None, verbose=False):\n",
        "    test_loader = data_loaders['testing']\n",
        "    with tqdm(total=n_epoch) as pbar:\n",
        "        completed_epoch = 1\n",
        "        if resume:\n",
        "            try:\n",
        "                #continue training with previous model if one exists\n",
        "                if checkpoint_path is None:\n",
        "                    raise ValueError\n",
        "                checkpoint = torch.load(checkpoint_path)\n",
        "                model.load_state_dict(checkpoint['model_state_dict'])\n",
        "                optimizer.load_state_dict(checkpoint['optimizer_state_dict'])\n",
        "                if scheduler is not None:\n",
        "                    scheduler.load_state_dict(checkpoint['scheduler_state_dict'])\n",
        "                completed_epoch = checkpoint[\"epoch\"] + 1\n",
        "                model.eval()\n",
        "                pbar.update(completed_epoch)\n",
        "            except:\n",
        "                pass\n",
        "\n",
        "        for epoch in range(completed_epoch, n_epoch + 1):\n",
        "            train_iters = len(data_loaders['training'])\n",
        "            train(model, data_loaders, optimizer, epoch, device, verbose)\n",
        "            test(test_loader, model, device,\n",
        "                 epoch=None, loader_type='Test')\n",
        "\n",
        "            if scheduler is not None:\n",
        "                scheduler.step()\n",
        "            #checkpoint the model every run\n",
        "            if epoch % save_interval == 0 and checkpoint_path is not None:\n",
        "                torch.save({\n",
        "                    'epoch': epoch,\n",
        "                    'model_state_dict': model.state_dict(),\n",
        "                    'optimizer_state_dict': optimizer.state_dict(),\n",
        "                    'scheduler_state_dict': scheduler.state_dict() if scheduler is not None else None\n",
        "                }, checkpoint_path)\n",
        "\n",
        "            # Update epoch pbar\n",
        "            pbar.update(1)\n",
        "\n",
        "\n",
        "verbose = False\n",
        "log_interval = 100\n",
        "num_batches = len(train_loader)\n",
        "n_epoch = 30\n",
        "print(f'#batches: {num_batches} \\n#epochs: {n_epoch} \\n#total training steps: {num_batches * n_epoch}')\n",
        "\n",
        "# # Create optimizer\n",
        "optimizer_quant = create_optimizer(model=qat_model_nbit, learning_rate=0.001)\n",
        "print(optimizer_quant.state_dict())\n",
        "\n",
        "checkpoint_path = os.path.join(TORCH_DIR, \"quant_checkpoint.pt\")\n",
        "qat_model_nbit.to(device)\n",
        "run_training(\n",
        "    model=qat_model_nbit, data_loaders=data_loaders,\n",
        "    n_epoch=n_epoch, log_interval=log_interval,\n",
        "    optimizer=optimizer_quant, scheduler=None,\n",
        "    resume=False,\n",
        "    checkpoint_path=checkpoint_path,\n",
        "    verbose=verbose\n",
        ")\n",
        "# qat_model_nbit = torch.load(\"./models/torch_models/(QAT4bit)quant_0.pt\")"
      ]
    },
    {
      "cell_type": "markdown",
      "metadata": {
        "id": "Rj8xFMjqxVfV"
      },
      "source": [
        "### Finetune the Float Model\n",
        "\n",
        "For fair comparison, we conduct the same funetuning for the float model."
      ]
    },
    {
      "cell_type": "code",
      "execution_count": 21,
      "metadata": {
        "id": "hx9VthdKxVfV",
        "scrolled": false,
        "colab": {
          "base_uri": "https://localhost:8080/",
          "height": 570,
          "referenced_widgets": [
            "e17ea0d44f0343f5833cb345bb324686",
            "36852f2decf54e1c82ce36a7e7debabd",
            "a4da0e2ebbb648a799aa656d02b44087",
            "d518ffd6c8e54c5896584995be051a9e",
            "89f0b8a166a14ec6a20846dea779a73b",
            "656855066f3e42c48c73d6806644eefe",
            "03209f863db54e9ea7d9ae7203732471",
            "e53a1ec760f14585b4f07744206a488e",
            "3ffb13d79fbb440185f5afc96426ee69",
            "38e76d56c5494014a748204955020404",
            "9541ad65e7414b828a34802cdb45e0f1"
          ]
        },
        "outputId": "57135c69-d633-413f-e1ca-5cfa0d634f1a"
      },
      "outputs": [
        {
          "output_type": "display_data",
          "data": {
            "text/plain": [
              "  0%|          | 0/30 [00:00<?, ?it/s]"
            ],
            "application/vnd.jupyter.widget-view+json": {
              "version_major": 2,
              "version_minor": 0,
              "model_id": "e17ea0d44f0343f5833cb345bb324686"
            }
          },
          "metadata": {}
        },
        {
          "output_type": "stream",
          "name": "stdout",
          "text": [
            "Val Acc Epoch 1 = 89.2%, Train loss = 0.432\n",
            "Val Acc Epoch 2 = 89.35%, Train loss = 0.393\n",
            "Val Acc Epoch 3 = 90.32%, Train loss = 0.393\n",
            "Val Acc Epoch 4 = 88.97%, Train loss = 0.376\n",
            "Val Acc Epoch 5 = 89.72%, Train loss = 0.368\n",
            "Val Acc Epoch 6 = 90.02%, Train loss = 0.363\n",
            "Val Acc Epoch 7 = 89.95%, Train loss = 0.366\n",
            "Val Acc Epoch 8 = 89.65%, Train loss = 0.35\n",
            "Val Acc Epoch 9 = 90.4%, Train loss = 0.354\n",
            "Val Acc Epoch 10 = 91.0%, Train loss = 0.341\n",
            "Val Acc Epoch 11 = 89.87%, Train loss = 0.348\n",
            "Val Acc Epoch 12 = 90.85%, Train loss = 0.336\n",
            "Val Acc Epoch 13 = 90.25%, Train loss = 0.336\n",
            "Val Acc Epoch 14 = 90.7%, Train loss = 0.332\n",
            "Val Acc Epoch 15 = 91.22%, Train loss = 0.327\n",
            "Val Acc Epoch 16 = 90.77%, Train loss = 0.33\n",
            "Val Acc Epoch 17 = 90.77%, Train loss = 0.321\n",
            "Val Acc Epoch 18 = 90.02%, Train loss = 0.323\n",
            "Val Acc Epoch 19 = 90.4%, Train loss = 0.319\n",
            "Val Acc Epoch 20 = 89.65%, Train loss = 0.321\n",
            "Val Acc Epoch 21 = 90.77%, Train loss = 0.323\n",
            "Val Acc Epoch 22 = 90.62%, Train loss = 0.312\n",
            "Val Acc Epoch 23 = 90.55%, Train loss = 0.308\n",
            "Val Acc Epoch 24 = 91.37%, Train loss = 0.309\n",
            "Val Acc Epoch 25 = 91.07%, Train loss = 0.315\n",
            "Val Acc Epoch 26 = 91.15%, Train loss = 0.311\n",
            "Val Acc Epoch 27 = 90.85%, Train loss = 0.3\n",
            "Val Acc Epoch 28 = 90.7%, Train loss = 0.306\n",
            "Val Acc Epoch 29 = 91.3%, Train loss = 0.305\n",
            "Val Acc Epoch 30 = 91.45%, Train loss = 0.312\n"
          ]
        }
      ],
      "source": [
        "# Create optimizer\n",
        "optimizer_fp32 = create_optimizer(model=model_fp32, learning_rate=0.0001)\n",
        "\n",
        "checkpoint_path = os.path.join(TORCH_DIR, \"fp32_finetune_checkpoint.pt\")\n",
        "model_fp32.to(device)\n",
        "run_training(\n",
        "    model=model_fp32, data_loaders=data_loaders,\n",
        "    n_epoch=n_epoch, log_interval=log_interval,\n",
        "    optimizer=optimizer_fp32, scheduler=None,\n",
        "    resume=False,\n",
        "    checkpoint_path=checkpoint_path,\n",
        "    verbose=verbose\n",
        ")"
      ]
    },
    {
      "cell_type": "markdown",
      "metadata": {
        "id": "jOIj0QUOoq_H"
      },
      "source": [
        "## 5.5 Testing"
      ]
    },
    {
      "cell_type": "markdown",
      "metadata": {
        "id": "95C3tSGNoq_H"
      },
      "source": [
        "We will compute the accuracy of the finetuned model in train/val/test set in this section.\n",
        "Note that this is not the final accuracy we want the model to perform well on.\n",
        "We would like our quantized-aware-finetuned model to perform well when quantized into integer.\n",
        "But the training/validation/testing accuracy of these model in quantization simulation model is still worth looking at for sanity checking purpose."
      ]
    },
    {
      "cell_type": "code",
      "execution_count": 22,
      "metadata": {
        "id": "0eFxrBqCoq_H",
        "scrolled": false,
        "colab": {
          "base_uri": "https://localhost:8080/",
          "height": 1000
        },
        "outputId": "db706953-5884-44ee-dd6d-ab90cd95d2c6"
      },
      "outputs": [
        {
          "output_type": "stream",
          "name": "stdout",
          "text": [
            "Train size: 10556 Val size: 1333 Test size: 1368\n"
          ]
        },
        {
          "output_type": "display_data",
          "data": {
            "text/plain": [
              "<Figure size 640x480 with 1 Axes>"
            ],
            "image/png": "[encoded data removed]"
          },
          "metadata": {}
        },
        {
          "output_type": "display_data",
          "data": {
            "text/plain": [
              "<Figure size 640x480 with 1 Axes>"
            ],
            "image/png": "[encoded data removed]"
          },
          "metadata": {}
        },
        {
          "output_type": "display_data",
          "data": {
            "text/plain": [
              "<Figure size 640x480 with 1 Axes>"
            ],
            "image/png": "[encoded data removed]"
          },
          "metadata": {}
        },
        {
          "output_type": "execute_result",
          "data": {
            "text/plain": [
              "0.8874269005847953"
            ]
          },
          "metadata": {},
          "execution_count": 22
        }
      ],
      "source": [
        "from src.train_val_test_utils import plot_acc\n",
        "\n",
        "test_time_data_loaders = make_data_loaders(\n",
        "    audio_processor, device,\n",
        "    test_batch_size=1, valid_batch_size=1,\n",
        "    num_workers=0\n",
        ")\n",
        "\n",
        "plot_acc(\n",
        "    test_time_data_loaders['training'], qat_model_nbit, audio_processor, device,\n",
        "    \"Training\", 'n-bit Quantized TinyConv', \"float\")\n",
        "plot_acc(\n",
        "    test_time_data_loaders['validation'], qat_model_nbit, audio_processor, device,\n",
        "    \"Validation\", 'n-bit Quantized TinyConv', \"float\")\n",
        "plot_acc(\n",
        "    test_time_data_loaders['testing'], qat_model_nbit, audio_processor, device,\n",
        "    'Testing', 'n-bit Quantized TinyConv', \"float\")"
      ]
    },
    {
      "cell_type": "code",
      "execution_count": 23,
      "metadata": {
        "id": "GnJHV-H_xVfV",
        "colab": {
          "base_uri": "https://localhost:8080/",
          "height": 1000
        },
        "outputId": "f63ba9e2-29ef-46d3-bbe0-1fe103c728f0"
      },
      "outputs": [
        {
          "output_type": "display_data",
          "data": {
            "text/plain": [
              "<Figure size 640x480 with 1 Axes>"
            ],
            "image/png": "[encoded data removed]"
          },
          "metadata": {}
        },
        {
          "output_type": "display_data",
          "data": {
            "text/plain": [
              "<Figure size 640x480 with 1 Axes>"
            ],
            "image/png": "[encoded data removed]"
          },
          "metadata": {}
        },
        {
          "output_type": "display_data",
          "data": {
            "text/plain": [
              "<Figure size 640x480 with 1 Axes>"
            ],
            "image/png": "[encoded data removed]"
          },
          "metadata": {}
        }
      ],
      "source": [
        "plot_acc(\n",
        "    test_time_data_loaders['training'], model_fp32, audio_processor, device,\n",
        "    \"Training\", 'FP32 FT TinyConv', \"float\")\n",
        "plot_acc(\n",
        "    test_time_data_loaders['validation'], model_fp32, audio_processor, device,\n",
        "    \"Validation\", 'FP32 FT TinyConv', \"float\")\n",
        "acc = plot_acc(\n",
        "    test_time_data_loaders['testing'], model_fp32, audio_processor, device,\n",
        "    'Testing', 'FP32 FT TinyConv', \"float\")"
      ]
    },
    {
      "cell_type": "markdown",
      "metadata": {
        "id": "5AehU-BsJgBV"
      },
      "source": [
        "## 5.6 Saving the Trained Model"
      ]
    },
    {
      "cell_type": "code",
      "execution_count": 24,
      "metadata": {
        "id": "agtFnTuTJgBV",
        "colab": {
          "base_uri": "https://localhost:8080/",
          "height": 104
        },
        "outputId": "519645b2-a5ff-4c0c-c086-98b944f21a64"
      },
      "outputs": [
        {
          "output_type": "stream",
          "name": "stdout",
          "text": [
            "Layer to be deprepared: QuantWrapper: conv\n",
            "Layer to be deprepared: QuantWrapper: fc\n",
            "The model's will be stored as: \n",
            " quant_0\n"
          ]
        },
        {
          "output_type": "execute_result",
          "data": {
            "text/plain": [
              "'./models/torch_models/(QAT6bit)quant_0.pt'"
            ],
            "application/vnd.google.colaboratory.intrinsic+json": {
              "type": "string"
            }
          },
          "metadata": {},
          "execution_count": 24
        }
      ],
      "source": [
        "from src.train_val_test_utils import choose_name\n",
        "from src.quant import dequantize_model\n",
        "\n",
        "# Save the qat model\n",
        "qat_model_nbit_float = dequantize_model(qat_model_nbit)\n",
        "file_name = choose_name(\"quant\")\n",
        "# You can also define your own path\n",
        "qat_torch_path = os.path.join(TORCH_DIR, f'(QAT{QUANT_BITS}bit){file_name}.pt')\n",
        "# Save the trained n-bit qat pytorch model to PATH\n",
        "torch.save(qat_model_nbit.state_dict(), qat_torch_path)\n",
        "qat_torch_path"
      ]
    },
    {
      "cell_type": "markdown",
      "metadata": {
        "id": "mij775vWoq_I"
      },
      "source": [
        "## 5.7 Understanding and Evaluate the Effectiveness of Quantization-Aware Training (QAT)"
      ]
    },
    {
      "cell_type": "markdown",
      "metadata": {
        "id": "oUCINlWNtQB-"
      },
      "source": [
        "### Model conversion: Quantized/Float Fine-tuning Model Converted to Integer Models"
      ]
    },
    {
      "cell_type": "code",
      "execution_count": 25,
      "metadata": {
        "id": "odKeXjOSoq_I"
      },
      "outputs": [],
      "source": [
        "from src.quant import dequantize_model\n",
        "from src.quant_conversion import convert_to_int"
      ]
    },
    {
      "cell_type": "code",
      "execution_count": 26,
      "metadata": {
        "id": "3ssFRMhToq_I",
        "colab": {
          "base_uri": "https://localhost:8080/"
        },
        "outputId": "03f44570-e37c-4586-9dd7-576c5a6560e9"
      },
      "outputs": [
        {
          "output_type": "stream",
          "name": "stdout",
          "text": [
            "Staying the same: conv_reshape Reshape(output_shape=(-1, 1, 49, 40))\n",
            "Staying the same: relu ReLU()\n",
            "Staying the same: dropout Dropout(p=0.5, inplace=False)\n",
            "Staying the same: fc_reshape Reshape(output_shape=(-1, 4000))\n",
            "Staying the same: conv_reshape Reshape(output_shape=(-1, 1, 49, 40))\n",
            "Staying the same: relu ReLU()\n",
            "Staying the same: dropout Dropout(p=0.5, inplace=False)\n",
            "Staying the same: fc_reshape Reshape(output_shape=(-1, 4000))\n",
            "Layer to be deprepared: QuantWrapper: conv\n",
            "Layer to be deprepared: QuantWrapper: fc\n",
            "Sequential(\n",
            "  (quant): Quant(): qconfig=quant_bits=6, quant_mode=asymmetric, prev_scale=None, prev_zeropoint=None, prev_min=None, prev_max=None ; dtype=torch.int32\n",
            "  (conv_reshape): Reshape(output_shape=(-1, 1, 49, 40))\n",
            "  (conv_quant): Quant(): qconfig=quant_bits=6, quant_mode=asymmetric, prev_scale=0.4048859477043152, prev_zeropoint=-0.0, prev_min=0.0, prev_max=25.5078125 ; dtype=torch.int32\n",
            "  (conv): Conv2d(1, 8, kernel_size=(10, 8), stride=(2, 2), padding=(5, 3))\n",
            "  (relu): ReLU()\n",
            "  (dropout): Dropout(p=0.5, inplace=False)\n",
            "  (fc_reshape): Reshape(output_shape=(-1, 4000))\n",
            "  (fc_quant): Quant(): qconfig=quant_bits=6, quant_mode=asymmetric, prev_scale=0.10014379769563675, prev_zeropoint=-0.0, prev_min=0.0, prev_max=6.309058666229248 ; dtype=torch.int32\n",
            "  (fc): Linear(in_features=4000, out_features=4, bias=True)\n",
            "  (dequant): DeQuant()\n",
            "  (softmax): Softmax(dim=1)\n",
            ")\n"
          ]
        }
      ],
      "source": [
        "# Convert to quantized model\n",
        "\n",
        "# Quantized integer model of qat_model_nbit (quantized aware finetuning model)\n",
        "int_model_nbit = convert_to_int(\n",
        "    qat_model_nbit, QUANT_BITS, dtype=torch.int32)\n",
        "\n",
        "# Post quantized model of model_fp32 (full-precision finetuned model)\n",
        "post_quant_model = convert_to_int(\n",
        "    model_fp32, QUANT_BITS, dtype=torch.int32)\n",
        "\n",
        "# Floating point models of the qat_model_nbit, without QuantWrappers\n",
        "float_model_nbit = dequantize_model(qat_model_nbit)\n",
        "\n",
        "print(int_model_nbit)"
      ]
    },
    {
      "cell_type": "code",
      "execution_count": 27,
      "metadata": {
        "id": "Jh2NGspeoq_I",
        "colab": {
          "base_uri": "https://localhost:8080/"
        },
        "outputId": "9eeb9c1d-a4d7-4926-9fb1-53bfb379635e"
      },
      "outputs": [
        {
          "output_type": "stream",
          "name": "stdout",
          "text": [
            "================================================================================\n",
            "Features from Quantized QAT Model\n",
            "--------------------------------------------------------------------------------\n",
            "features of Quantized QAT Model parameters:\n",
            "conv.weight: min=-32; max=31; dtype=torch.int32; shape=torch.Size([8, 1, 10, 8])\n",
            "conv.bias: min=-224; max=217; dtype=torch.int32; shape=torch.Size([8])\n",
            "fc.weight: min=-32; max=31; dtype=torch.int32; shape=torch.Size([4, 4000])\n",
            "fc.bias: min=-870; max=1124; dtype=torch.int32; shape=torch.Size([4])\n",
            "features of Quantized QAT Model activations/outputs\n",
            "input: min=0.0; max=25.46875; dtype=torch.float32; shape=torch.Size([1, 1960])\n",
            "output of quant: min=0; max=63; dtype=torch.int32; shape=torch.Size([1, 1960])\n",
            "output of conv_reshape: min=0; max=63; dtype=torch.int32; shape=torch.Size([1, 1, 49, 40])\n",
            "output of conv_quant: min=0; max=63; dtype=torch.int32; shape=torch.Size([1, 1, 49, 40])\n",
            "output of conv: min=-25640; max=4256; dtype=torch.int32; shape=torch.Size([1, 8, 25, 20])\n",
            "output of relu: min=0; max=4256; dtype=torch.int32; shape=torch.Size([1, 8, 25, 20])\n",
            "output of dropout: min=0; max=4256; dtype=torch.int32; shape=torch.Size([1, 8, 25, 20])\n",
            "output of fc_reshape: min=0; max=4256; dtype=torch.int32; shape=torch.Size([1, 4000])\n",
            "output of fc_quant: min=0; max=63; dtype=torch.int32; shape=torch.Size([1, 4000])\n",
            "output of fc: min=-2440; max=809; dtype=torch.int32; shape=torch.Size([1, 4])\n",
            "output of dequant: min=-2440.0; max=809.0; dtype=torch.float32; shape=torch.Size([1, 4])\n",
            "output of softmax: min=0.0; max=1.0; dtype=torch.float32; shape=torch.Size([1, 4])\n",
            "\n",
            "================================================================================\n",
            "Features from Model fp32\n",
            "--------------------------------------------------------------------------------\n",
            "features of Model fp32 parameters:\n",
            "conv.weight: min=-0.2786850333213806; max=0.12421112507581711; dtype=torch.float32; shape=torch.Size([8, 1, 10, 8])\n",
            "conv.bias: min=-1.0744043588638306; max=0.26298779249191284; dtype=torch.float32; shape=torch.Size([8])\n",
            "fc.weight: min=-0.40814080834388733; max=0.26337239146232605; dtype=torch.float32; shape=torch.Size([4, 4000])\n",
            "fc.bias: min=-0.3098035752773285; max=0.41146141290664673; dtype=torch.float32; shape=torch.Size([4])\n",
            "features of Model fp32 activations/outputs\n",
            "input: min=0.0; max=25.46875; dtype=torch.float32; shape=torch.Size([1, 1960])\n",
            "output of conv_reshape: min=0.0; max=25.46875; dtype=torch.float32; shape=torch.Size([1, 1, 49, 40])\n",
            "output of conv: min=-45.996150970458984; max=6.105387210845947; dtype=torch.float32; shape=torch.Size([1, 8, 25, 20])\n",
            "output of relu: min=0.0; max=6.105387210845947; dtype=torch.float32; shape=torch.Size([1, 8, 25, 20])\n",
            "output of dropout: min=0.0; max=6.105387210845947; dtype=torch.float32; shape=torch.Size([1, 8, 25, 20])\n",
            "output of fc_reshape: min=0.0; max=6.105387210845947; dtype=torch.float32; shape=torch.Size([1, 4000])\n",
            "output of fc: min=-1.653319239616394; max=0.7907789349555969; dtype=torch.float32; shape=torch.Size([1, 4])\n",
            "output of softmax: min=0.048546452075242996; max=0.559262752532959; dtype=torch.float32; shape=torch.Size([1, 4])\n"
          ]
        }
      ],
      "source": [
        "from src.quant_conversion import print_features\n",
        "\n",
        "# Select a sample data to see the features of it\n",
        "sample_data, _ = audio_processor.get_data_from_file(\n",
        "    audio_processor.data_index['testing'][0], BACKGROUND_FREQUENCY,\n",
        "    BACKGROUND_VOLUME_RANGE, TIME_SHIFT_SAMPLE, 'testing')\n",
        "\n",
        "print(\"=\" * 80)\n",
        "print(\"Features from Quantized QAT Model\")\n",
        "print(\"-\" * 80)\n",
        "print_features(sample_data, int_model_nbit, 'Quantized QAT Model')\n",
        "print()\n",
        "print(\"=\" * 80)\n",
        "print(\"Features from Model fp32\")\n",
        "print(\"-\" * 80)\n",
        "print_features(sample_data, model_fp32, \"Model fp32\")"
      ]
    },
    {
      "cell_type": "markdown",
      "metadata": {
        "id": "TMm7grfnoq_I"
      },
      "source": [
        "### Compare the Performance Between Integer Models from Float/Quantized-Aware Finetuning"
      ]
    },
    {
      "cell_type": "code",
      "execution_count": 28,
      "metadata": {
        "id": "kHJaISbYoq_J",
        "colab": {
          "base_uri": "https://localhost:8080/"
        },
        "outputId": "6dd0f081-8583-44bf-957d-737eeb6ec2a0"
      },
      "outputs": [
        {
          "output_type": "stream",
          "name": "stdout",
          "text": [
            "The models have 99.561% same predictions, \n",
            "Model1 predicts 87.281% of the samples correctly, \n",
            "Model2 predicts 86.988% of the samples correctly\n",
            "MSE between two models' prediction: 0.0095\n"
          ]
        }
      ],
      "source": [
        "from src.quant_conversion import compare_model, compare_model_mse\n",
        "\n",
        "# Compare differences in predictions\n",
        "# QAT trained floating point model vs. integer model converted from the QAT model\n",
        "# Percentage of same predictions shows how \"quantization aware\" the float point model is\n",
        "_ = compare_model(test_loader, float_model_nbit, int_model_nbit) # First is QAT\n",
        "_ = compare_model_mse(test_loader, float_model_nbit, int_model_nbit)"
      ]
    },
    {
      "cell_type": "code",
      "execution_count": 29,
      "metadata": {
        "id": "RNikQddjoq_J",
        "colab": {
          "base_uri": "https://localhost:8080/"
        },
        "outputId": "a0a43493-e606-4880-96f3-6340936bb27c"
      },
      "outputs": [
        {
          "output_type": "stream",
          "name": "stdout",
          "text": [
            "The models have 94.006% same predictions, \n",
            "Model1 predicts 89.620% of the samples correctly, \n",
            "Model2 predicts 86.842% of the samples correctly\n",
            "MSE between two models' prediction: 0.0309\n"
          ]
        }
      ],
      "source": [
        "from src.quant_conversion import compare_model, compare_model_mse\n",
        "\n",
        "# Float32 model vs. integer model converted from the float32 model using post training quantization\n",
        "_ = compare_model(test_loader, model_fp32, post_quant_model) # Second is Post\n",
        "_ = compare_model_mse(test_loader, model_fp32, post_quant_model)"
      ]
    },
    {
      "cell_type": "code",
      "source": [],
      "metadata": {
        "id": "GV_VnInIAfLB"
      },
      "execution_count": 29,
      "outputs": []
    }
  ],
  "metadata": {
    "accelerator": "GPU",
    "colab": {
      "name": "5_quantization.ipynb",
      "provenance": [],
      "gpuType": "T4",
      "include_colab_link": true
    },
    "interpreter": {
      "hash": "eed6bdaff5cc743acd241b8f3fe4c5dc3266475018a66ac615ca19ad2f28387d"
    },
    "kernelspec": {
      "display_name": "Python 3",
      "name": "python3"
    },
    "language_info": {
      "codemirror_mode": {
        "name": "ipython",
        "version": 3
      },
      "file_extension": ".py",
      "mimetype": "text/x-python",
      "name": "python",
      "nbconvert_exporter": "python",
      "pygments_lexer": "ipython3",
      "version": "3.8.3"
    },
    "widgets": {
      "application/vnd.jupyter.widget-state+json": {
        "c87432e33c334cc39d4dae0e60abe2e9": {
          "model_module": "@jupyter-widgets/controls",
          "model_name": "HBoxModel",
          "model_module_version": "1.5.0",
          "state": {
            "_dom_classes": [],
            "_model_module": "@jupyter-widgets/controls",
            "_model_module_version": "1.5.0",
            "_model_name": "HBoxModel",
            "_view_count": null,
            "_view_module": "@jupyter-widgets/controls",
            "_view_module_version": "1.5.0",
            "_view_name": "HBoxView",
            "box_style": "",
            "children": [
              "IPY_MODEL_b9def11d481c4932bb76133ac4cc5502",
              "IPY_MODEL_53cd6259f8804edcab238c784fcc79ee",
              "IPY_MODEL_4d5a2ce9a9be4f408bb0b50b9c0a0a04"
            ],
            "layout": "IPY_MODEL_e4b62a548b794d44bc0e0c64f1daa3c3"
          }
        },
        "b9def11d481c4932bb76133ac4cc5502": {
          "model_module": "@jupyter-widgets/controls",
          "model_name": "HTMLModel",
          "model_module_version": "1.5.0",
          "state": {
            "_dom_classes": [],
            "_model_module": "@jupyter-widgets/controls",
            "_model_module_version": "1.5.0",
            "_model_name": "HTMLModel",
            "_view_count": null,
            "_view_module": "@jupyter-widgets/controls",
            "_view_module_version": "1.5.0",
            "_view_name": "HTMLView",
            "description": "",
            "description_tooltip": null,
            "layout": "IPY_MODEL_9fb4141a951f4ba08e309db8dcb2773c",
            "placeholder": "​",
            "style": "IPY_MODEL_2cd4001b92e6413ba6f5fc2de5fd8e44",
            "value": "100%"
          }
        },
        "53cd6259f8804edcab238c784fcc79ee": {
          "model_module": "@jupyter-widgets/controls",
          "model_name": "FloatProgressModel",
          "model_module_version": "1.5.0",
          "state": {
            "_dom_classes": [],
            "_model_module": "@jupyter-widgets/controls",
            "_model_module_version": "1.5.0",
            "_model_name": "FloatProgressModel",
            "_view_count": null,
            "_view_module": "@jupyter-widgets/controls",
            "_view_module_version": "1.5.0",
            "_view_name": "ProgressView",
            "bar_style": "success",
            "description": "",
            "description_tooltip": null,
            "layout": "IPY_MODEL_8461bedb6dbd4dd3849728c3210dd317",
            "max": 30,
            "min": 0,
            "orientation": "horizontal",
            "style": "IPY_MODEL_ab529f388945409daf28d425e5ff46bf",
            "value": 30
          }
        },
        "4d5a2ce9a9be4f408bb0b50b9c0a0a04": {
          "model_module": "@jupyter-widgets/controls",
          "model_name": "HTMLModel",
          "model_module_version": "1.5.0",
          "state": {
            "_dom_classes": [],
            "_model_module": "@jupyter-widgets/controls",
            "_model_module_version": "1.5.0",
            "_model_name": "HTMLModel",
            "_view_count": null,
            "_view_module": "@jupyter-widgets/controls",
            "_view_module_version": "1.5.0",
            "_view_name": "HTMLView",
            "description": "",
            "description_tooltip": null,
            "layout": "IPY_MODEL_5049414dfaa944a29e152e13b40fa064",
            "placeholder": "​",
            "style": "IPY_MODEL_3f7cefd4129f4251ba0cf4135b09a0c7",
            "value": " 30/30 [48:13&lt;00:00, 91.96s/it]"
          }
        },
        "e4b62a548b794d44bc0e0c64f1daa3c3": {
          "model_module": "@jupyter-widgets/base",
          "model_name": "LayoutModel",
          "model_module_version": "1.2.0",
          "state": {
            "_model_module": "@jupyter-widgets/base",
            "_model_module_version": "1.2.0",
            "_model_name": "LayoutModel",
            "_view_count": null,
            "_view_module": "@jupyter-widgets/base",
            "_view_module_version": "1.2.0",
            "_view_name": "LayoutView",
            "align_content": null,
            "align_items": null,
            "align_self": null,
            "border": null,
            "bottom": null,
            "display": null,
            "flex": null,
            "flex_flow": null,
            "grid_area": null,
            "grid_auto_columns": null,
            "grid_auto_flow": null,
            "grid_auto_rows": null,
            "grid_column": null,
            "grid_gap": null,
            "grid_row": null,
            "grid_template_areas": null,
            "grid_template_columns": null,
            "grid_template_rows": null,
            "height": null,
            "justify_content": null,
            "justify_items": null,
            "left": null,
            "margin": null,
            "max_height": null,
            "max_width": null,
            "min_height": null,
            "min_width": null,
            "object_fit": null,
            "object_position": null,
            "order": null,
            "overflow": null,
            "overflow_x": null,
            "overflow_y": null,
            "padding": null,
            "right": null,
            "top": null,
            "visibility": null,
            "width": null
          }
        },
        "9fb4141a951f4ba08e309db8dcb2773c": {
          "model_module": "@jupyter-widgets/base",
          "model_name": "LayoutModel",
          "model_module_version": "1.2.0",
          "state": {
            "_model_module": "@jupyter-widgets/base",
            "_model_module_version": "1.2.0",
            "_model_name": "LayoutModel",
            "_view_count": null,
            "_view_module": "@jupyter-widgets/base",
            "_view_module_version": "1.2.0",
            "_view_name": "LayoutView",
            "align_content": null,
            "align_items": null,
            "align_self": null,
            "border": null,
            "bottom": null,
            "display": null,
            "flex": null,
            "flex_flow": null,
            "grid_area": null,
            "grid_auto_columns": null,
            "grid_auto_flow": null,
            "grid_auto_rows": null,
            "grid_column": null,
            "grid_gap": null,
            "grid_row": null,
            "grid_template_areas": null,
            "grid_template_columns": null,
            "grid_template_rows": null,
            "height": null,
            "justify_content": null,
            "justify_items": null,
            "left": null,
            "margin": null,
            "max_height": null,
            "max_width": null,
            "min_height": null,
            "min_width": null,
            "object_fit": null,
            "object_position": null,
            "order": null,
            "overflow": null,
            "overflow_x": null,
            "overflow_y": null,
            "padding": null,
            "right": null,
            "top": null,
            "visibility": null,
            "width": null
          }
        },
        "2cd4001b92e6413ba6f5fc2de5fd8e44": {
          "model_module": "@jupyter-widgets/controls",
          "model_name": "DescriptionStyleModel",
          "model_module_version": "1.5.0",
          "state": {
            "_model_module": "@jupyter-widgets/controls",
            "_model_module_version": "1.5.0",
            "_model_name": "DescriptionStyleModel",
            "_view_count": null,
            "_view_module": "@jupyter-widgets/base",
            "_view_module_version": "1.2.0",
            "_view_name": "StyleView",
            "description_width": ""
          }
        },
        "8461bedb6dbd4dd3849728c3210dd317": {
          "model_module": "@jupyter-widgets/base",
          "model_name": "LayoutModel",
          "model_module_version": "1.2.0",
          "state": {
            "_model_module": "@jupyter-widgets/base",
            "_model_module_version": "1.2.0",
            "_model_name": "LayoutModel",
            "_view_count": null,
            "_view_module": "@jupyter-widgets/base",
            "_view_module_version": "1.2.0",
            "_view_name": "LayoutView",
            "align_content": null,
            "align_items": null,
            "align_self": null,
            "border": null,
            "bottom": null,
            "display": null,
            "flex": null,
            "flex_flow": null,
            "grid_area": null,
            "grid_auto_columns": null,
            "grid_auto_flow": null,
            "grid_auto_rows": null,
            "grid_column": null,
            "grid_gap": null,
            "grid_row": null,
            "grid_template_areas": null,
            "grid_template_columns": null,
            "grid_template_rows": null,
            "height": null,
            "justify_content": null,
            "justify_items": null,
            "left": null,
            "margin": null,
            "max_height": null,
            "max_width": null,
            "min_height": null,
            "min_width": null,
            "object_fit": null,
            "object_position": null,
            "order": null,
            "overflow": null,
            "overflow_x": null,
            "overflow_y": null,
            "padding": null,
            "right": null,
            "top": null,
            "visibility": null,
            "width": null
          }
        },
        "ab529f388945409daf28d425e5ff46bf": {
          "model_module": "@jupyter-widgets/controls",
          "model_name": "ProgressStyleModel",
          "model_module_version": "1.5.0",
          "state": {
            "_model_module": "@jupyter-widgets/controls",
            "_model_module_version": "1.5.0",
            "_model_name": "ProgressStyleModel",
            "_view_count": null,
            "_view_module": "@jupyter-widgets/base",
            "_view_module_version": "1.2.0",
            "_view_name": "StyleView",
            "bar_color": null,
            "description_width": ""
          }
        },
        "5049414dfaa944a29e152e13b40fa064": {
          "model_module": "@jupyter-widgets/base",
          "model_name": "LayoutModel",
          "model_module_version": "1.2.0",
          "state": {
            "_model_module": "@jupyter-widgets/base",
            "_model_module_version": "1.2.0",
            "_model_name": "LayoutModel",
            "_view_count": null,
            "_view_module": "@jupyter-widgets/base",
            "_view_module_version": "1.2.0",
            "_view_name": "LayoutView",
            "align_content": null,
            "align_items": null,
            "align_self": null,
            "border": null,
            "bottom": null,
            "display": null,
            "flex": null,
            "flex_flow": null,
            "grid_area": null,
            "grid_auto_columns": null,
            "grid_auto_flow": null,
            "grid_auto_rows": null,
            "grid_column": null,
            "grid_gap": null,
            "grid_row": null,
            "grid_template_areas": null,
            "grid_template_columns": null,
            "grid_template_rows": null,
            "height": null,
            "justify_content": null,
            "justify_items": null,
            "left": null,
            "margin": null,
            "max_height": null,
            "max_width": null,
            "min_height": null,
            "min_width": null,
            "object_fit": null,
            "object_position": null,
            "order": null,
            "overflow": null,
            "overflow_x": null,
            "overflow_y": null,
            "padding": null,
            "right": null,
            "top": null,
            "visibility": null,
            "width": null
          }
        },
        "3f7cefd4129f4251ba0cf4135b09a0c7": {
          "model_module": "@jupyter-widgets/controls",
          "model_name": "DescriptionStyleModel",
          "model_module_version": "1.5.0",
          "state": {
            "_model_module": "@jupyter-widgets/controls",
            "_model_module_version": "1.5.0",
            "_model_name": "DescriptionStyleModel",
            "_view_count": null,
            "_view_module": "@jupyter-widgets/base",
            "_view_module_version": "1.2.0",
            "_view_name": "StyleView",
            "description_width": ""
          }
        },
        "e17ea0d44f0343f5833cb345bb324686": {
          "model_module": "@jupyter-widgets/controls",
          "model_name": "HBoxModel",
          "model_module_version": "1.5.0",
          "state": {
            "_dom_classes": [],
            "_model_module": "@jupyter-widgets/controls",
            "_model_module_version": "1.5.0",
            "_model_name": "HBoxModel",
            "_view_count": null,
            "_view_module": "@jupyter-widgets/controls",
            "_view_module_version": "1.5.0",
            "_view_name": "HBoxView",
            "box_style": "",
            "children": [
              "IPY_MODEL_36852f2decf54e1c82ce36a7e7debabd",
              "IPY_MODEL_a4da0e2ebbb648a799aa656d02b44087",
              "IPY_MODEL_d518ffd6c8e54c5896584995be051a9e"
            ],
            "layout": "IPY_MODEL_89f0b8a166a14ec6a20846dea779a73b"
          }
        },
        "36852f2decf54e1c82ce36a7e7debabd": {
          "model_module": "@jupyter-widgets/controls",
          "model_name": "HTMLModel",
          "model_module_version": "1.5.0",
          "state": {
            "_dom_classes": [],
            "_model_module": "@jupyter-widgets/controls",
            "_model_module_version": "1.5.0",
            "_model_name": "HTMLModel",
            "_view_count": null,
            "_view_module": "@jupyter-widgets/controls",
            "_view_module_version": "1.5.0",
            "_view_name": "HTMLView",
            "description": "",
            "description_tooltip": null,
            "layout": "IPY_MODEL_656855066f3e42c48c73d6806644eefe",
            "placeholder": "​",
            "style": "IPY_MODEL_03209f863db54e9ea7d9ae7203732471",
            "value": "100%"
          }
        },
        "a4da0e2ebbb648a799aa656d02b44087": {
          "model_module": "@jupyter-widgets/controls",
          "model_name": "FloatProgressModel",
          "model_module_version": "1.5.0",
          "state": {
            "_dom_classes": [],
            "_model_module": "@jupyter-widgets/controls",
            "_model_module_version": "1.5.0",
            "_model_name": "FloatProgressModel",
            "_view_count": null,
            "_view_module": "@jupyter-widgets/controls",
            "_view_module_version": "1.5.0",
            "_view_name": "ProgressView",
            "bar_style": "success",
            "description": "",
            "description_tooltip": null,
            "layout": "IPY_MODEL_e53a1ec760f14585b4f07744206a488e",
            "max": 30,
            "min": 0,
            "orientation": "horizontal",
            "style": "IPY_MODEL_3ffb13d79fbb440185f5afc96426ee69",
            "value": 30
          }
        },
        "d518ffd6c8e54c5896584995be051a9e": {
          "model_module": "@jupyter-widgets/controls",
          "model_name": "HTMLModel",
          "model_module_version": "1.5.0",
          "state": {
            "_dom_classes": [],
            "_model_module": "@jupyter-widgets/controls",
            "_model_module_version": "1.5.0",
            "_model_name": "HTMLModel",
            "_view_count": null,
            "_view_module": "@jupyter-widgets/controls",
            "_view_module_version": "1.5.0",
            "_view_name": "HTMLView",
            "description": "",
            "description_tooltip": null,
            "layout": "IPY_MODEL_38e76d56c5494014a748204955020404",
            "placeholder": "​",
            "style": "IPY_MODEL_9541ad65e7414b828a34802cdb45e0f1",
            "value": " 30/30 [44:58&lt;00:00, 88.81s/it]"
          }
        },
        "89f0b8a166a14ec6a20846dea779a73b": {
          "model_module": "@jupyter-widgets/base",
          "model_name": "LayoutModel",
          "model_module_version": "1.2.0",
          "state": {
            "_model_module": "@jupyter-widgets/base",
            "_model_module_version": "1.2.0",
            "_model_name": "LayoutModel",
            "_view_count": null,
            "_view_module": "@jupyter-widgets/base",
            "_view_module_version": "1.2.0",
            "_view_name": "LayoutView",
            "align_content": null,
            "align_items": null,
            "align_self": null,
            "border": null,
            "bottom": null,
            "display": null,
            "flex": null,
            "flex_flow": null,
            "grid_area": null,
            "grid_auto_columns": null,
            "grid_auto_flow": null,
            "grid_auto_rows": null,
            "grid_column": null,
            "grid_gap": null,
            "grid_row": null,
            "grid_template_areas": null,
            "grid_template_columns": null,
            "grid_template_rows": null,
            "height": null,
            "justify_content": null,
            "justify_items": null,
            "left": null,
            "margin": null,
            "max_height": null,
            "max_width": null,
            "min_height": null,
            "min_width": null,
            "object_fit": null,
            "object_position": null,
            "order": null,
            "overflow": null,
            "overflow_x": null,
            "overflow_y": null,
            "padding": null,
            "right": null,
            "top": null,
            "visibility": null,
            "width": null
          }
        },
        "656855066f3e42c48c73d6806644eefe": {
          "model_module": "@jupyter-widgets/base",
          "model_name": "LayoutModel",
          "model_module_version": "1.2.0",
          "state": {
            "_model_module": "@jupyter-widgets/base",
            "_model_module_version": "1.2.0",
            "_model_name": "LayoutModel",
            "_view_count": null,
            "_view_module": "@jupyter-widgets/base",
            "_view_module_version": "1.2.0",
            "_view_name": "LayoutView",
            "align_content": null,
            "align_items": null,
            "align_self": null,
            "border": null,
            "bottom": null,
            "display": null,
            "flex": null,
            "flex_flow": null,
            "grid_area": null,
            "grid_auto_columns": null,
            "grid_auto_flow": null,
            "grid_auto_rows": null,
            "grid_column": null,
            "grid_gap": null,
            "grid_row": null,
            "grid_template_areas": null,
            "grid_template_columns": null,
            "grid_template_rows": null,
            "height": null,
            "justify_content": null,
            "justify_items": null,
            "left": null,
            "margin": null,
            "max_height": null,
            "max_width": null,
            "min_height": null,
            "min_width": null,
            "object_fit": null,
            "object_position": null,
            "order": null,
            "overflow": null,
            "overflow_x": null,
            "overflow_y": null,
            "padding": null,
            "right": null,
            "top": null,
            "visibility": null,
            "width": null
          }
        },
        "03209f863db54e9ea7d9ae7203732471": {
          "model_module": "@jupyter-widgets/controls",
          "model_name": "DescriptionStyleModel",
          "model_module_version": "1.5.0",
          "state": {
            "_model_module": "@jupyter-widgets/controls",
            "_model_module_version": "1.5.0",
            "_model_name": "DescriptionStyleModel",
            "_view_count": null,
            "_view_module": "@jupyter-widgets/base",
            "_view_module_version": "1.2.0",
            "_view_name": "StyleView",
            "description_width": ""
          }
        },
        "e53a1ec760f14585b4f07744206a488e": {
          "model_module": "@jupyter-widgets/base",
          "model_name": "LayoutModel",
          "model_module_version": "1.2.0",
          "state": {
            "_model_module": "@jupyter-widgets/base",
            "_model_module_version": "1.2.0",
            "_model_name": "LayoutModel",
            "_view_count": null,
            "_view_module": "@jupyter-widgets/base",
            "_view_module_version": "1.2.0",
            "_view_name": "LayoutView",
            "align_content": null,
            "align_items": null,
            "align_self": null,
            "border": null,
            "bottom": null,
            "display": null,
            "flex": null,
            "flex_flow": null,
            "grid_area": null,
            "grid_auto_columns": null,
            "grid_auto_flow": null,
            "grid_auto_rows": null,
            "grid_column": null,
            "grid_gap": null,
            "grid_row": null,
            "grid_template_areas": null,
            "grid_template_columns": null,
            "grid_template_rows": null,
            "height": null,
            "justify_content": null,
            "justify_items": null,
            "left": null,
            "margin": null,
            "max_height": null,
            "max_width": null,
            "min_height": null,
            "min_width": null,
            "object_fit": null,
            "object_position": null,
            "order": null,
            "overflow": null,
            "overflow_x": null,
            "overflow_y": null,
            "padding": null,
            "right": null,
            "top": null,
            "visibility": null,
            "width": null
          }
        },
        "3ffb13d79fbb440185f5afc96426ee69": {
          "model_module": "@jupyter-widgets/controls",
          "model_name": "ProgressStyleModel",
          "model_module_version": "1.5.0",
          "state": {
            "_model_module": "@jupyter-widgets/controls",
            "_model_module_version": "1.5.0",
            "_model_name": "ProgressStyleModel",
            "_view_count": null,
            "_view_module": "@jupyter-widgets/base",
            "_view_module_version": "1.2.0",
            "_view_name": "StyleView",
            "bar_color": null,
            "description_width": ""
          }
        },
        "38e76d56c5494014a748204955020404": {
          "model_module": "@jupyter-widgets/base",
          "model_name": "LayoutModel",
          "model_module_version": "1.2.0",
          "state": {
            "_model_module": "@jupyter-widgets/base",
            "_model_module_version": "1.2.0",
            "_model_name": "LayoutModel",
            "_view_count": null,
            "_view_module": "@jupyter-widgets/base",
            "_view_module_version": "1.2.0",
            "_view_name": "LayoutView",
            "align_content": null,
            "align_items": null,
            "align_self": null,
            "border": null,
            "bottom": null,
            "display": null,
            "flex": null,
            "flex_flow": null,
            "grid_area": null,
            "grid_auto_columns": null,
            "grid_auto_flow": null,
            "grid_auto_rows": null,
            "grid_column": null,
            "grid_gap": null,
            "grid_row": null,
            "grid_template_areas": null,
            "grid_template_columns": null,
            "grid_template_rows": null,
            "height": null,
            "justify_content": null,
            "justify_items": null,
            "left": null,
            "margin": null,
            "max_height": null,
            "max_width": null,
            "min_height": null,
            "min_width": null,
            "object_fit": null,
            "object_position": null,
            "order": null,
            "overflow": null,
            "overflow_x": null,
            "overflow_y": null,
            "padding": null,
            "right": null,
            "top": null,
            "visibility": null,
            "width": null
          }
        },
        "9541ad65e7414b828a34802cdb45e0f1": {
          "model_module": "@jupyter-widgets/controls",
          "model_name": "DescriptionStyleModel",
          "model_module_version": "1.5.0",
          "state": {
            "_model_module": "@jupyter-widgets/controls",
            "_model_module_version": "1.5.0",
            "_model_name": "DescriptionStyleModel",
            "_view_count": null,
            "_view_module": "@jupyter-widgets/base",
            "_view_module_version": "1.2.0",
            "_view_name": "StyleView",
            "description_width": ""
          }
        }
      }
    }
  },
  "nbformat": 4,
  "nbformat_minor": 0
}