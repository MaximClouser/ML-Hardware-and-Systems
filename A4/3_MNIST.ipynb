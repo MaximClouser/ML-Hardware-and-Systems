{
  "nbformat": 4,
  "nbformat_minor": 0,
  "metadata": {
    "colab": {
      "provenance": [],
      "authorship_tag": "ABX9TyN/RaN+x1gNyAxlQmAmvlNG",
      "include_colab_link": true
    },
    "kernelspec": {
      "name": "python3",
      "display_name": "Python 3"
    },
    "language_info": {
      "name": "python"
    }
  },
  "cells": [
    {
      "cell_type": "markdown",
      "metadata": {
        "id": "view-in-github",
        "colab_type": "text"
      },
      "source": [
        "<a href=\"https://colab.research.google.com/github/ML-HW-SYS/a4-MaximClouser/blob/main/3_MNIST.ipynb\" target=\"_parent\"><img src=\"https://colab.research.google.com/assets/colab-badge.svg\" alt=\"Open In Colab\"/></a>"
      ]
    },
    {
      "cell_type": "code",
      "execution_count": 1,
      "metadata": {
        "colab": {
          "base_uri": "https://localhost:8080/"
        },
        "id": "5qiEVND-tDpN",
        "outputId": "a8c3cd44-43a2-47b0-c6c6-aabadfd9dd04"
      },
      "outputs": [
        {
          "output_type": "stream",
          "name": "stdout",
          "text": [
            "Mounted at /content/gdrive\n"
          ]
        }
      ],
      "source": [
        "from google.colab import drive\n",
        "drive.mount('/content/gdrive')"
      ]
    },
    {
      "cell_type": "code",
      "source": [
        "with open('/content/gdrive/MyDrive/ece5545/token.txt') as f:\n",
        "    token = f.readline().strip()\n",
        "# Use another file to store your github username\n",
        "with open('/content/gdrive/MyDrive/ece5545/git_username.txt') as f:\n",
        "    handle = f.readline().strip()"
      ],
      "metadata": {
        "id": "oPdVv0pptS7B"
      },
      "execution_count": 2,
      "outputs": []
    },
    {
      "cell_type": "code",
      "source": [
        "YOUR_TOKEN = token\n",
        "YOUR_HANDLE = handle\n",
        "BRANCH = \"main\"\n",
        "\n",
        "# %mkdir /content/gdrive/MyDrive/ece5545\n",
        "%cd /content/gdrive/MyDrive/ece5545\n",
        "!git clone https://{YOUR_TOKEN}@github.com/ML-HW-SYS/a4-{YOUR_HANDLE}.git\n",
        "%cd /content/gdrive/MyDrive/ece5545/a4-{YOUR_HANDLE}\n",
        "!git checkout {BRANCH}\n",
        "!git pull\n",
        "%cd /content/gdrive/MyDrive/ece5545\n",
        "\n",
        "PROJECT_ROOT = f\"/content/gdrive/MyDrive/ece5545/a4-{YOUR_HANDLE}\""
      ],
      "metadata": {
        "colab": {
          "base_uri": "https://localhost:8080/"
        },
        "id": "uFMoiyx0tUsX",
        "outputId": "eb8fb7cc-8e50-4e29-8aac-82c18ef1a368"
      },
      "execution_count": 3,
      "outputs": [
        {
          "output_type": "stream",
          "name": "stdout",
          "text": [
            "/content/gdrive/MyDrive/ece5545\n",
            "fatal: destination path 'a4-MaximClouser' already exists and is not an empty directory.\n",
            "/content/gdrive/MyDrive/ece5545/a4-MaximClouser\n",
            "Already on 'main'\n",
            "Your branch is up to date with 'origin/main'.\n",
            "remote: Enumerating objects: 9, done.\u001b[K\n",
            "remote: Counting objects: 100% (4/4), done.\u001b[K\n",
            "remote: Compressing objects: 100% (3/3), done.\u001b[K\n",
            "remote: Total 9 (delta 3), reused 1 (delta 1), pack-reused 5\u001b[K\n",
            "Unpacking objects: 100% (9/9), 153.55 KiB | 331.00 KiB/s, done.\n",
            "From https://github.com/ML-HW-SYS/a4-MaximClouser\n",
            "   c21a07e..2c3cb2b  main       -> origin/main\n",
            "Updating c21a07e..2c3cb2b\n",
            "Fast-forward\n",
            " 1-numerical_precision.ipynb | 143 \u001b[32m++++++++++++++\u001b[m\u001b[31m------\u001b[m\n",
            " 2-svd_rank.ipynb            |   2 \u001b[32m+\u001b[m\u001b[31m-\u001b[m\n",
            " 3_MNIST.ipynb               | 454 \u001b[32m+++++++++++++++++++++++++++++++++++++\u001b[m\u001b[31m---------------------------\u001b[m\n",
            " 3 files changed, 362 insertions(+), 237 deletions(-)\n",
            "/content/gdrive/MyDrive/ece5545\n"
          ]
        }
      ]
    },
    {
      "cell_type": "code",
      "source": [
        "%load_ext autoreload\n",
        "%autoreload 2"
      ],
      "metadata": {
        "id": "ariRSPHqtXvu"
      },
      "execution_count": 4,
      "outputs": []
    },
    {
      "cell_type": "code",
      "source": [
        "!ls {PROJECT_ROOT}\n",
        "%cd a4-MaximClouser"
      ],
      "metadata": {
        "colab": {
          "base_uri": "https://localhost:8080/"
        },
        "id": "Z91bNWcQtZOu",
        "outputId": "74523269-61bf-43c0-97d5-23b712ce35f0"
      },
      "execution_count": 5,
      "outputs": [
        {
          "output_type": "stream",
          "name": "stdout",
          "text": [
            "1-numerical_precision.ipynb  2-svd_rank.ipynb  3_MNIST.ipynb  data  mnist.py  README.md  src  tests\n",
            "/content/gdrive/MyDrive/ece5545/a4-MaximClouser\n"
          ]
        }
      ]
    },
    {
      "cell_type": "code",
      "source": [
        "!pip install torch numpy matplotlib"
      ],
      "metadata": {
        "colab": {
          "base_uri": "https://localhost:8080/"
        },
        "id": "qL8g4HTYtasW",
        "outputId": "9ec3c20a-4679-4f9b-f857-933b1299db4f"
      },
      "execution_count": 6,
      "outputs": [
        {
          "output_type": "stream",
          "name": "stdout",
          "text": [
            "Requirement already satisfied: torch in /usr/local/lib/python3.10/dist-packages (2.2.1+cu121)\n",
            "Requirement already satisfied: numpy in /usr/local/lib/python3.10/dist-packages (1.25.2)\n",
            "Requirement already satisfied: matplotlib in /usr/local/lib/python3.10/dist-packages (3.7.1)\n",
            "Requirement already satisfied: filelock in /usr/local/lib/python3.10/dist-packages (from torch) (3.13.4)\n",
            "Requirement already satisfied: typing-extensions>=4.8.0 in /usr/local/lib/python3.10/dist-packages (from torch) (4.11.0)\n",
            "Requirement already satisfied: sympy in /usr/local/lib/python3.10/dist-packages (from torch) (1.12)\n",
            "Requirement already satisfied: networkx in /usr/local/lib/python3.10/dist-packages (from torch) (3.3)\n",
            "Requirement already satisfied: jinja2 in /usr/local/lib/python3.10/dist-packages (from torch) (3.1.3)\n",
            "Requirement already satisfied: fsspec in /usr/local/lib/python3.10/dist-packages (from torch) (2023.6.0)\n",
            "Collecting nvidia-cuda-nvrtc-cu12==12.1.105 (from torch)\n",
            "  Using cached nvidia_cuda_nvrtc_cu12-12.1.105-py3-none-manylinux1_x86_64.whl (23.7 MB)\n",
            "Collecting nvidia-cuda-runtime-cu12==12.1.105 (from torch)\n",
            "  Using cached nvidia_cuda_runtime_cu12-12.1.105-py3-none-manylinux1_x86_64.whl (823 kB)\n",
            "Collecting nvidia-cuda-cupti-cu12==12.1.105 (from torch)\n",
            "  Using cached nvidia_cuda_cupti_cu12-12.1.105-py3-none-manylinux1_x86_64.whl (14.1 MB)\n",
            "Collecting nvidia-cudnn-cu12==8.9.2.26 (from torch)\n",
            "  Using cached nvidia_cudnn_cu12-8.9.2.26-py3-none-manylinux1_x86_64.whl (731.7 MB)\n",
            "Collecting nvidia-cublas-cu12==12.1.3.1 (from torch)\n",
            "  Using cached nvidia_cublas_cu12-12.1.3.1-py3-none-manylinux1_x86_64.whl (410.6 MB)\n",
            "Collecting nvidia-cufft-cu12==11.0.2.54 (from torch)\n",
            "  Using cached nvidia_cufft_cu12-11.0.2.54-py3-none-manylinux1_x86_64.whl (121.6 MB)\n",
            "Collecting nvidia-curand-cu12==10.3.2.106 (from torch)\n",
            "  Using cached nvidia_curand_cu12-10.3.2.106-py3-none-manylinux1_x86_64.whl (56.5 MB)\n",
            "Collecting nvidia-cusolver-cu12==11.4.5.107 (from torch)\n",
            "  Using cached nvidia_cusolver_cu12-11.4.5.107-py3-none-manylinux1_x86_64.whl (124.2 MB)\n",
            "Collecting nvidia-cusparse-cu12==12.1.0.106 (from torch)\n",
            "  Using cached nvidia_cusparse_cu12-12.1.0.106-py3-none-manylinux1_x86_64.whl (196.0 MB)\n",
            "Collecting nvidia-nccl-cu12==2.19.3 (from torch)\n",
            "  Using cached nvidia_nccl_cu12-2.19.3-py3-none-manylinux1_x86_64.whl (166.0 MB)\n",
            "Collecting nvidia-nvtx-cu12==12.1.105 (from torch)\n",
            "  Using cached nvidia_nvtx_cu12-12.1.105-py3-none-manylinux1_x86_64.whl (99 kB)\n",
            "Requirement already satisfied: triton==2.2.0 in /usr/local/lib/python3.10/dist-packages (from torch) (2.2.0)\n",
            "Collecting nvidia-nvjitlink-cu12 (from nvidia-cusolver-cu12==11.4.5.107->torch)\n",
            "  Using cached nvidia_nvjitlink_cu12-12.4.127-py3-none-manylinux2014_x86_64.whl (21.1 MB)\n",
            "Requirement already satisfied: contourpy>=1.0.1 in /usr/local/lib/python3.10/dist-packages (from matplotlib) (1.2.1)\n",
            "Requirement already satisfied: cycler>=0.10 in /usr/local/lib/python3.10/dist-packages (from matplotlib) (0.12.1)\n",
            "Requirement already satisfied: fonttools>=4.22.0 in /usr/local/lib/python3.10/dist-packages (from matplotlib) (4.51.0)\n",
            "Requirement already satisfied: kiwisolver>=1.0.1 in /usr/local/lib/python3.10/dist-packages (from matplotlib) (1.4.5)\n",
            "Requirement already satisfied: packaging>=20.0 in /usr/local/lib/python3.10/dist-packages (from matplotlib) (24.0)\n",
            "Requirement already satisfied: pillow>=6.2.0 in /usr/local/lib/python3.10/dist-packages (from matplotlib) (9.4.0)\n",
            "Requirement already satisfied: pyparsing>=2.3.1 in /usr/local/lib/python3.10/dist-packages (from matplotlib) (3.1.2)\n",
            "Requirement already satisfied: python-dateutil>=2.7 in /usr/local/lib/python3.10/dist-packages (from matplotlib) (2.8.2)\n",
            "Requirement already satisfied: six>=1.5 in /usr/local/lib/python3.10/dist-packages (from python-dateutil>=2.7->matplotlib) (1.16.0)\n",
            "Requirement already satisfied: MarkupSafe>=2.0 in /usr/local/lib/python3.10/dist-packages (from jinja2->torch) (2.1.5)\n",
            "Requirement already satisfied: mpmath>=0.19 in /usr/local/lib/python3.10/dist-packages (from sympy->torch) (1.3.0)\n",
            "Installing collected packages: nvidia-nvtx-cu12, nvidia-nvjitlink-cu12, nvidia-nccl-cu12, nvidia-curand-cu12, nvidia-cufft-cu12, nvidia-cuda-runtime-cu12, nvidia-cuda-nvrtc-cu12, nvidia-cuda-cupti-cu12, nvidia-cublas-cu12, nvidia-cusparse-cu12, nvidia-cudnn-cu12, nvidia-cusolver-cu12\n",
            "Successfully installed nvidia-cublas-cu12-12.1.3.1 nvidia-cuda-cupti-cu12-12.1.105 nvidia-cuda-nvrtc-cu12-12.1.105 nvidia-cuda-runtime-cu12-12.1.105 nvidia-cudnn-cu12-8.9.2.26 nvidia-cufft-cu12-11.0.2.54 nvidia-curand-cu12-10.3.2.106 nvidia-cusolver-cu12-11.4.5.107 nvidia-cusparse-cu12-12.1.0.106 nvidia-nccl-cu12-2.19.3 nvidia-nvjitlink-cu12-12.4.127 nvidia-nvtx-cu12-12.1.105\n"
          ]
        }
      ]
    },
    {
      "cell_type": "code",
      "source": [
        "import matplotlib.pyplot as plt\n",
        "\n",
        "def plot_compression_vs_metrics(ratios, times, acc):\n",
        "    fig, (ax1, ax2) = plt.subplots(1, 2, figsize=(12, 5))\n",
        "\n",
        "    ax1.plot(ratios, acc, marker='o', linestyle='-')\n",
        "    ax1.set_xlabel('Compression Ratio')\n",
        "    ax1.set_ylabel('Accuracy (%)')\n",
        "    ax1.set_title('Compression Ratio vs. Accuracy')\n",
        "    ax1.grid(True)\n",
        "\n",
        "    ax2.plot(ratios, times, marker='o', linestyle='-', color='r')\n",
        "    ax2.set_xlabel('Compression Ratio')\n",
        "    ax2.set_ylabel('Measured Runtime (ms)')\n",
        "    ax2.set_title('Compression Ratio vs. Runtime')\n",
        "    ax2.grid(True)\n",
        "\n",
        "    plt.tight_layout()\n",
        "    plt.show()\n",
        "\n",
        "def plot_runtime_vs_accuracy(times, acc, ratios):\n",
        "    plt.figure(figsize=(8, 5))\n",
        "\n",
        "    norm = plt.Normalize(min(ratios), max(ratios))\n",
        "    colors = plt.cm.viridis(norm(ratios))\n",
        "\n",
        "    scatter = plt.scatter(times, acc, color=colors, marker='o', s=50)\n",
        "\n",
        "    cbar = plt.colorbar(scatter)\n",
        "    cbar.set_label('Compression Ratio')\n",
        "\n",
        "    plt.xlabel('Measured Runtime (ms)')\n",
        "    plt.ylabel('Accuracy (%)')\n",
        "    plt.title('Runtime vs. Accuracy')\n",
        "    plt.grid(True)\n",
        "    plt.show()"
      ],
      "metadata": {
        "id": "NHpNhjn3Ys7N"
      },
      "execution_count": 18,
      "outputs": []
    },
    {
      "cell_type": "code",
      "source": [
        "ratios = [0.05, 0.1, 0.15, 0.2, 0.25 ,0.3, 0.35, 0.4, 0.45]\n",
        "times = [0.04083, 0.041516, 0.0382525, 0.0493820, 0.0612959, 0.049423, 0.040533, 0.03880245, 0.039248]\n",
        "acc = [96,51, 90, 91, 91, 95, 96, 96,96]\n",
        "\n",
        "ratios = [0.1, 0.15, 0.2, 0.25 ,0.3, 0.35, 0.4, 0.45]\n",
        "times = [0.0859652, 0.0855527,0.08509843,0.08462195,0.08675835,0.09873714, 0.108466815,0.0961016416]\n",
        "acc = [54,89,89,89,95,96,96,96]\n",
        "\n",
        "plot_compression_vs_metrics(ratios, times, acc)\n",
        "plot_runtime_vs_accuracy(times, acc, ratios)"
      ],
      "metadata": {
        "colab": {
          "base_uri": "https://localhost:8080/",
          "height": 963
        },
        "id": "JMKDPKqUYFz0",
        "outputId": "c2878adc-49f0-4f98-8ceb-7b39f0d99dfd"
      },
      "execution_count": 19,
      "outputs": [
        {
          "output_type": "display_data",
          "data": {
            "text/plain": [
              "<Figure size 1200x500 with 2 Axes>"
            ],
            "image/png": "[encoded data removed]"
          },
          "metadata": {}
        },
        {
          "output_type": "display_data",
          "data": {
            "text/plain": [
              "<Figure size 800x500 with 2 Axes>"
            ],
            "image/png": "[encoded data removed]"
          },
          "metadata": {}
        }
      ]
    },
    {
      "cell_type": "code",
      "source": [
        "!python mnist.py --ratio=0.05"
      ],
      "metadata": {
        "colab": {
          "base_uri": "https://localhost:8080/"
        },
        "id": "kppQxz7ALlfS",
        "outputId": "06823b15-c5ab-4806-ed3c-365756200f7e"
      },
      "execution_count": null,
      "outputs": [
        {
          "output_type": "stream",
          "name": "stdout",
          "text": [
            "RANK:  26\n",
            "RANK:  6\n",
            "RANK:  0\n",
            "Train Epoch: 1 \tAverage Loss: 0.481558\n",
            "\n",
            "Test set: Average loss: 0.2751, Accuracy: 9127/10000 (91%)\n",
            "\n",
            "Average time per predicion: 0.09664311408996581\n",
            "Train Epoch: 2 \tAverage Loss: 0.213982\n",
            "\n",
            "Test set: Average loss: 0.1880, Accuracy: 9408/10000 (94%)\n",
            "\n",
            "Average time per predicion: 0.08972802162170411\n",
            "Train Epoch: 3 \tAverage Loss: 0.165634\n",
            "\n",
            "Test set: Average loss: 0.1552, Accuracy: 9524/10000 (95%)\n",
            "\n",
            "Average time per predicion: 0.08770363330841065\n",
            "Train Epoch: 4 \tAverage Loss: 0.143273\n",
            "\n",
            "Test set: Average loss: 0.1401, Accuracy: 9565/10000 (96%)\n",
            "\n",
            "Average time per predicion: 0.08525183200836181\n",
            "Train Epoch: 5 \tAverage Loss: 0.130537\n",
            "\n",
            "Test set: Average loss: 0.1319, Accuracy: 9592/10000 (96%)\n",
            "\n",
            "Average time per predicion: 0.0859652042388916\n"
          ]
        }
      ]
    },
    {
      "cell_type": "code",
      "source": [
        "!python mnist.py --ratio=0.1"
      ],
      "metadata": {
        "colab": {
          "base_uri": "https://localhost:8080/"
        },
        "id": "7NrlKwHGHhk0",
        "outputId": "dbd0ed00-06b2-4152-c283-7ebb07a13bf6"
      },
      "execution_count": null,
      "outputs": [
        {
          "output_type": "stream",
          "name": "stdout",
          "text": [
            "RANK:  51\n",
            "RANK:  13\n",
            "RANK:  1\n",
            "Train Epoch: 1 \tAverage Loss: 1.664914\n",
            "\n",
            "Test set: Average loss: 1.5438, Accuracy: 2652/10000 (27%)\n",
            "\n",
            "Average time per predicion: 0.0974431037902832\n",
            "Train Epoch: 2 \tAverage Loss: 1.458049\n",
            "\n",
            "Test set: Average loss: 1.4396, Accuracy: 4194/10000 (42%)\n",
            "\n",
            "Average time per predicion: 0.08819725513458253\n",
            "Train Epoch: 3 \tAverage Loss: 1.372386\n",
            "\n",
            "Test set: Average loss: 1.3849, Accuracy: 4882/10000 (49%)\n",
            "\n",
            "Average time per predicion: 0.11989998817443848\n",
            "Train Epoch: 4 \tAverage Loss: 1.322881\n",
            "\n",
            "Test set: Average loss: 1.3519, Accuracy: 5224/10000 (52%)\n",
            "\n",
            "Average time per predicion: 0.08528289794921876\n",
            "Train Epoch: 5 \tAverage Loss: 1.291569\n",
            "\n",
            "Test set: Average loss: 1.3309, Accuracy: 5380/10000 (54%)\n",
            "\n",
            "Average time per predicion: 0.12993688583374025\n"
          ]
        }
      ]
    },
    {
      "cell_type": "code",
      "source": [
        "!python mnist.py --ratio=0.15"
      ],
      "metadata": {
        "colab": {
          "base_uri": "https://localhost:8080/"
        },
        "id": "aOqO-_SfHiup",
        "outputId": "ae05a9ff-91c8-4f0e-b285-0d04df8c195a"
      },
      "execution_count": null,
      "outputs": [
        {
          "output_type": "stream",
          "name": "stdout",
          "text": [
            "0.15\n",
            "RANK:  77\n",
            "RANK:  19\n",
            "RANK:  2\n",
            "Train Epoch: 1 \tAverage Loss: 1.032811\n",
            "\n",
            "Test set: Average loss: 0.7333, Accuracy: 7963/10000 (80%)\n",
            "\n",
            "Average time per predicion: 0.11221227645874024\n",
            "Train Epoch: 2 \tAverage Loss: 0.638233\n",
            "\n",
            "Test set: Average loss: 0.5976, Accuracy: 8525/10000 (85%)\n",
            "\n",
            "Average time per predicion: 0.08380882740020752\n",
            "Train Epoch: 3 \tAverage Loss: 0.530642\n",
            "\n",
            "Test set: Average loss: 0.5346, Accuracy: 8742/10000 (87%)\n",
            "\n",
            "Average time per predicion: 0.08362705707550049\n",
            "Train Epoch: 4 \tAverage Loss: 0.472578\n",
            "\n",
            "Test set: Average loss: 0.4981, Accuracy: 8870/10000 (89%)\n",
            "\n",
            "Average time per predicion: 0.12364668846130371\n",
            "Train Epoch: 5 \tAverage Loss: 0.437030\n",
            "\n",
            "Test set: Average loss: 0.4762, Accuracy: 8928/10000 (89%)\n",
            "\n",
            "Average time per predicion: 0.08555271625518798\n"
          ]
        }
      ]
    },
    {
      "cell_type": "code",
      "source": [
        "!python mnist.py --ratio=0.2"
      ],
      "metadata": {
        "colab": {
          "base_uri": "https://localhost:8080/"
        },
        "id": "L1iYYz9dLXQJ",
        "outputId": "1f8aefec-bdd9-4bcf-b7cf-760cb37a137e"
      },
      "execution_count": null,
      "outputs": [
        {
          "output_type": "stream",
          "name": "stdout",
          "text": [
            "0.2\n",
            "RANK:  102\n",
            "RANK:  26\n",
            "RANK:  2\n",
            "Train Epoch: 1 \tAverage Loss: 1.017146\n",
            "\n",
            "Test set: Average loss: 0.7235, Accuracy: 7984/10000 (80%)\n",
            "\n",
            "Average time per predicion: 0.08423020839691163\n",
            "Train Epoch: 2 \tAverage Loss: 0.631214\n",
            "\n",
            "Test set: Average loss: 0.5907, Accuracy: 8528/10000 (85%)\n",
            "\n",
            "Average time per predicion: 0.08353736400604247\n",
            "Train Epoch: 3 \tAverage Loss: 0.523263\n",
            "\n",
            "Test set: Average loss: 0.5272, Accuracy: 8759/10000 (88%)\n",
            "\n",
            "Average time per predicion: 0.10944919586181641\n",
            "Train Epoch: 4 \tAverage Loss: 0.464804\n",
            "\n",
            "Test set: Average loss: 0.4917, Accuracy: 8882/10000 (89%)\n",
            "\n",
            "Average time per predicion: 0.09677407741546631\n",
            "Train Epoch: 5 \tAverage Loss: 0.429441\n",
            "\n",
            "Test set: Average loss: 0.4708, Accuracy: 8943/10000 (89%)\n",
            "\n",
            "Average time per predicion: 0.08509843349456787\n"
          ]
        }
      ]
    },
    {
      "cell_type": "code",
      "source": [
        "!python mnist.py --ratio=0.25"
      ],
      "metadata": {
        "colab": {
          "base_uri": "https://localhost:8080/"
        },
        "id": "tZC9uT7ILYFh",
        "outputId": "d7b06faf-9e03-462f-e743-05c153c1f9c8"
      },
      "execution_count": null,
      "outputs": [
        {
          "output_type": "stream",
          "name": "stdout",
          "text": [
            "0.25\n",
            "RANK:  128\n",
            "RANK:  32\n",
            "RANK:  2\n",
            "Train Epoch: 1 \tAverage Loss: 1.014003\n",
            "\n",
            "Test set: Average loss: 0.7209, Accuracy: 7982/10000 (80%)\n",
            "\n",
            "Average time per predicion: 0.12004024982452392\n",
            "Train Epoch: 2 \tAverage Loss: 0.629736\n",
            "\n",
            "Test set: Average loss: 0.5878, Accuracy: 8534/10000 (85%)\n",
            "\n",
            "Average time per predicion: 0.111527419090271\n",
            "Train Epoch: 3 \tAverage Loss: 0.521179\n",
            "\n",
            "Test set: Average loss: 0.5243, Accuracy: 8774/10000 (88%)\n",
            "\n",
            "Average time per predicion: 0.08461606502532959\n",
            "Train Epoch: 4 \tAverage Loss: 0.462564\n",
            "\n",
            "Test set: Average loss: 0.4885, Accuracy: 8868/10000 (89%)\n",
            "\n",
            "Average time per predicion: 0.08430323600769042\n",
            "Train Epoch: 5 \tAverage Loss: 0.427042\n",
            "\n",
            "Test set: Average loss: 0.4677, Accuracy: 8941/10000 (89%)\n",
            "\n",
            "Average time per predicion: 0.0846219539642334\n"
          ]
        }
      ]
    },
    {
      "cell_type": "code",
      "source": [
        "!python mnist.py --ratio=0.3"
      ],
      "metadata": {
        "colab": {
          "base_uri": "https://localhost:8080/"
        },
        "id": "HbZLEZDiLZPa",
        "outputId": "19eec6bf-bc7e-4462-9d83-a5c06ff14713"
      },
      "execution_count": null,
      "outputs": [
        {
          "output_type": "stream",
          "name": "stdout",
          "text": [
            "0.3\n",
            "RANK:  154\n",
            "RANK:  38\n",
            "RANK:  3\n",
            "Train Epoch: 1 \tAverage Loss: 0.627294\n",
            "\n",
            "Test set: Average loss: 0.3223, Accuracy: 9104/10000 (91%)\n",
            "\n",
            "Average time per predicion: 0.08535556793212891\n",
            "Train Epoch: 2 \tAverage Loss: 0.258038\n",
            "\n",
            "Test set: Average loss: 0.2349, Accuracy: 9342/10000 (93%)\n",
            "\n",
            "Average time per predicion: 0.08754096031188965\n",
            "Train Epoch: 3 \tAverage Loss: 0.198480\n",
            "\n",
            "Test set: Average loss: 0.2010, Accuracy: 9453/10000 (95%)\n",
            "\n",
            "Average time per predicion: 0.08693580627441407\n",
            "Train Epoch: 4 \tAverage Loss: 0.170131\n",
            "\n",
            "Test set: Average loss: 0.1842, Accuracy: 9510/10000 (95%)\n",
            "\n",
            "Average time per predicion: 0.08508884906768799\n",
            "Train Epoch: 5 \tAverage Loss: 0.153371\n",
            "\n",
            "Test set: Average loss: 0.1751, Accuracy: 9541/10000 (95%)\n",
            "\n",
            "Average time per predicion: 0.08675835132598876\n"
          ]
        }
      ]
    },
    {
      "cell_type": "code",
      "source": [
        "!python mnist.py --ratio=0.35"
      ],
      "metadata": {
        "colab": {
          "base_uri": "https://localhost:8080/"
        },
        "id": "fztg0rU7LaWJ",
        "outputId": "9dd788c5-045b-4eb4-aa6a-6787ea99e59e"
      },
      "execution_count": null,
      "outputs": [
        {
          "output_type": "stream",
          "name": "stdout",
          "text": [
            "0.35\n",
            "RANK:  179\n",
            "RANK:  45\n",
            "RANK:  4\n",
            "Train Epoch: 1 \tAverage Loss: 0.529843\n",
            "\n",
            "Test set: Average loss: 0.2516, Accuracy: 9242/10000 (92%)\n",
            "\n",
            "Average time per predicion: 0.08676021099090576\n",
            "Train Epoch: 2 \tAverage Loss: 0.208963\n",
            "\n",
            "Test set: Average loss: 0.1823, Accuracy: 9484/10000 (95%)\n",
            "\n",
            "Average time per predicion: 0.08767502307891846\n",
            "Train Epoch: 3 \tAverage Loss: 0.157049\n",
            "\n",
            "Test set: Average loss: 0.1530, Accuracy: 9559/10000 (96%)\n",
            "\n",
            "Average time per predicion: 0.13250834941864015\n",
            "Train Epoch: 4 \tAverage Loss: 0.132211\n",
            "\n",
            "Test set: Average loss: 0.1383, Accuracy: 9595/10000 (96%)\n",
            "\n",
            "Average time per predicion: 0.08820919990539551\n",
            "Train Epoch: 5 \tAverage Loss: 0.117811\n",
            "\n",
            "Test set: Average loss: 0.1303, Accuracy: 9621/10000 (96%)\n",
            "\n",
            "Average time per predicion: 0.09873714447021484\n"
          ]
        }
      ]
    },
    {
      "cell_type": "code",
      "source": [
        "!python mnist.py --ratio=0.4"
      ],
      "metadata": {
        "colab": {
          "base_uri": "https://localhost:8080/"
        },
        "id": "t8EFQuWbLbRd",
        "outputId": "a47ab670-389a-4b25-8046-0ad2ea06b363"
      },
      "execution_count": null,
      "outputs": [
        {
          "output_type": "stream",
          "name": "stdout",
          "text": [
            "0.4\n",
            "RANK:  205\n",
            "RANK:  51\n",
            "RANK:  4\n",
            "Train Epoch: 1 \tAverage Loss: 0.526697\n",
            "\n",
            "Test set: Average loss: 0.2479, Accuracy: 9256/10000 (93%)\n",
            "\n",
            "Average time per predicion: 0.08937041759490967\n",
            "Train Epoch: 2 \tAverage Loss: 0.204115\n",
            "\n",
            "Test set: Average loss: 0.1799, Accuracy: 9477/10000 (95%)\n",
            "\n",
            "Average time per predicion: 0.0955235242843628\n",
            "Train Epoch: 3 \tAverage Loss: 0.153336\n",
            "\n",
            "Test set: Average loss: 0.1504, Accuracy: 9545/10000 (95%)\n",
            "\n",
            "Average time per predicion: 0.09846575260162353\n",
            "Train Epoch: 4 \tAverage Loss: 0.129013\n",
            "\n",
            "Test set: Average loss: 0.1351, Accuracy: 9601/10000 (96%)\n",
            "\n",
            "Average time per predicion: 0.0883450746536255\n",
            "Train Epoch: 5 \tAverage Loss: 0.114823\n",
            "\n",
            "Test set: Average loss: 0.1269, Accuracy: 9628/10000 (96%)\n",
            "\n",
            "Average time per predicion: 0.10846681594848633\n"
          ]
        }
      ]
    },
    {
      "cell_type": "code",
      "source": [
        "!python mnist.py --ratio=0.45"
      ],
      "metadata": {
        "colab": {
          "base_uri": "https://localhost:8080/"
        },
        "id": "2o9KxNYbLcRa",
        "outputId": "9f9ff507-5664-40bb-8a40-df214b9f0932"
      },
      "execution_count": null,
      "outputs": [
        {
          "output_type": "stream",
          "name": "stdout",
          "text": [
            "0.45\n",
            "RANK:  230\n",
            "RANK:  58\n",
            "RANK:  4\n",
            "Train Epoch: 1 \tAverage Loss: 0.518125\n",
            "\n",
            "Test set: Average loss: 0.2561, Accuracy: 9259/10000 (93%)\n",
            "\n",
            "Average time per predicion: 0.08726160526275635\n",
            "Train Epoch: 2 \tAverage Loss: 0.206899\n",
            "\n",
            "Test set: Average loss: 0.1857, Accuracy: 9460/10000 (95%)\n",
            "\n",
            "Average time per predicion: 0.1478351593017578\n",
            "Train Epoch: 3 \tAverage Loss: 0.155592\n",
            "\n",
            "Test set: Average loss: 0.1558, Accuracy: 9549/10000 (95%)\n",
            "\n",
            "Average time per predicion: 0.08851263523101806\n",
            "Train Epoch: 4 \tAverage Loss: 0.130926\n",
            "\n",
            "Test set: Average loss: 0.1420, Accuracy: 9604/10000 (96%)\n",
            "\n",
            "Average time per predicion: 0.08906095027923584\n",
            "Train Epoch: 5 \tAverage Loss: 0.116597\n",
            "\n",
            "Test set: Average loss: 0.1348, Accuracy: 9624/10000 (96%)\n",
            "\n",
            "Average time per predicion: 0.09610164165496826\n"
          ]
        }
      ]
    },
    {
      "cell_type": "code",
      "source": [],
      "metadata": {
        "id": "Er1FWc0JLn8T"
      },
      "execution_count": null,
      "outputs": []
    }
  ]
}